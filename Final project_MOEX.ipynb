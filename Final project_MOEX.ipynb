{
 "cells": [
  {
   "cell_type": "markdown",
   "id": "92e7c07f",
   "metadata": {},
   "source": [
    "## Библиотеки"
   ]
  },
  {
   "cell_type": "code",
   "execution_count": 1,
   "id": "8d39ace0",
   "metadata": {},
   "outputs": [],
   "source": [
    "import pandas as pd\n",
    "import numpy as np\n",
    "import requests\n",
    "import io\n",
    "import datetime\n",
    "import seaborn as sns\n",
    "import matplotlib.pyplot as plt\n",
    "%matplotlib inline\n",
    "from sklearn.cluster import KMeans\n",
    "import sklearn.metrics as metrics\n",
    "from sklearn.decomposition import PCA"
   ]
  },
  {
   "cell_type": "code",
   "execution_count": 58,
   "id": "ddf183ea",
   "metadata": {},
   "outputs": [],
   "source": [
    "# df = pd.read_csv('rates.csv', encoding='cp1251', sep=';', header=0)\n",
    "# df.head()"
   ]
  },
  {
   "cell_type": "markdown",
   "id": "7febf133",
   "metadata": {},
   "source": [
    "## Загрузка данных"
   ]
  },
  {
   "cell_type": "code",
   "execution_count": 2,
   "id": "a5dc7432",
   "metadata": {
    "scrolled": true
   },
   "outputs": [
    {
     "data": {
      "text/html": [
       "<div>\n",
       "<style scoped>\n",
       "    .dataframe tbody tr th:only-of-type {\n",
       "        vertical-align: middle;\n",
       "    }\n",
       "\n",
       "    .dataframe tbody tr th {\n",
       "        vertical-align: top;\n",
       "    }\n",
       "\n",
       "    .dataframe thead th {\n",
       "        text-align: right;\n",
       "    }\n",
       "</style>\n",
       "<table border=\"1\" class=\"dataframe\">\n",
       "  <thead>\n",
       "    <tr style=\"text-align: right;\">\n",
       "      <th></th>\n",
       "      <th>SECID</th>\n",
       "      <th>SHORTNAME</th>\n",
       "      <th>NAME</th>\n",
       "      <th>TYPENAME</th>\n",
       "      <th>ISIN</th>\n",
       "      <th>REGNUMBER</th>\n",
       "      <th>LISTLEVEL</th>\n",
       "      <th>FACEVALUE</th>\n",
       "      <th>FACEUNIT</th>\n",
       "      <th>ISSUESIZE</th>\n",
       "      <th>...</th>\n",
       "      <th>RTL3</th>\n",
       "      <th>RTH3</th>\n",
       "      <th>DISCOUNT1</th>\n",
       "      <th>LIMIT1</th>\n",
       "      <th>DISCOUNT2</th>\n",
       "      <th>LIMIT2</th>\n",
       "      <th>DISCOUNT3</th>\n",
       "      <th>DISCOUNTL0</th>\n",
       "      <th>DISCOUNTH0</th>\n",
       "      <th>FULLCOVERED</th>\n",
       "    </tr>\n",
       "  </thead>\n",
       "  <tbody>\n",
       "    <tr>\n",
       "      <th>0</th>\n",
       "      <td>AMUNIBB2AER2</td>\n",
       "      <td>UBANK11/22</td>\n",
       "      <td>UNIBANK OJSC Series 1</td>\n",
       "      <td>Корпоративные еврооблигации</td>\n",
       "      <td>AMUNIBB2AER2</td>\n",
       "      <td>NaN</td>\n",
       "      <td>3.0</td>\n",
       "      <td>100,0</td>\n",
       "      <td>USD</td>\n",
       "      <td>10000.0</td>\n",
       "      <td>...</td>\n",
       "      <td>0,0</td>\n",
       "      <td>13420,22</td>\n",
       "      <td>100,0</td>\n",
       "      <td>NaN</td>\n",
       "      <td>NaN</td>\n",
       "      <td>NaN</td>\n",
       "      <td>NaN</td>\n",
       "      <td>100,00000</td>\n",
       "      <td>100,00000</td>\n",
       "      <td>1.0</td>\n",
       "    </tr>\n",
       "    <tr>\n",
       "      <th>1</th>\n",
       "      <td>AMUNIBB2DER6</td>\n",
       "      <td>UBANK02/24</td>\n",
       "      <td>UNIBANK OJSC Series 1 21</td>\n",
       "      <td>Корпоративные еврооблигации</td>\n",
       "      <td>AMUNIBB2DER6</td>\n",
       "      <td>NaN</td>\n",
       "      <td>3.0</td>\n",
       "      <td>100,0</td>\n",
       "      <td>USD</td>\n",
       "      <td>33478.0</td>\n",
       "      <td>...</td>\n",
       "      <td>0,0</td>\n",
       "      <td>13583,24</td>\n",
       "      <td>100,0</td>\n",
       "      <td>NaN</td>\n",
       "      <td>NaN</td>\n",
       "      <td>NaN</td>\n",
       "      <td>NaN</td>\n",
       "      <td>100,00000</td>\n",
       "      <td>100,00000</td>\n",
       "      <td>1.0</td>\n",
       "    </tr>\n",
       "    <tr>\n",
       "      <th>2</th>\n",
       "      <td>AT0000A2UF10</td>\n",
       "      <td>Raiff CAG</td>\n",
       "      <td>Raiffeisen Centrobank AG</td>\n",
       "      <td>Корпоративные еврооблигации</td>\n",
       "      <td>AT0000A2UF10</td>\n",
       "      <td>NaN</td>\n",
       "      <td>3.0</td>\n",
       "      <td>1000,0</td>\n",
       "      <td>USD</td>\n",
       "      <td>50000.0</td>\n",
       "      <td>...</td>\n",
       "      <td>0,0</td>\n",
       "      <td>111690,14</td>\n",
       "      <td>100,0</td>\n",
       "      <td>NaN</td>\n",
       "      <td>NaN</td>\n",
       "      <td>NaN</td>\n",
       "      <td>NaN</td>\n",
       "      <td>100,00000</td>\n",
       "      <td>100,00000</td>\n",
       "      <td>1.0</td>\n",
       "    </tr>\n",
       "    <tr>\n",
       "      <th>3</th>\n",
       "      <td>CH0248531110</td>\n",
       "      <td>VTB-24 CHF</td>\n",
       "      <td>VTB CAPITAL S.A. 24 CHF</td>\n",
       "      <td>Корпоративные еврооблигации</td>\n",
       "      <td>CH0248531110</td>\n",
       "      <td>NaN</td>\n",
       "      <td>NaN</td>\n",
       "      <td>5000,0</td>\n",
       "      <td>CHF</td>\n",
       "      <td>70000.0</td>\n",
       "      <td>...</td>\n",
       "      <td>0,0</td>\n",
       "      <td>759185,2</td>\n",
       "      <td>100,0</td>\n",
       "      <td>NaN</td>\n",
       "      <td>NaN</td>\n",
       "      <td>NaN</td>\n",
       "      <td>NaN</td>\n",
       "      <td>100,00000</td>\n",
       "      <td>100,00000</td>\n",
       "      <td>1.0</td>\n",
       "    </tr>\n",
       "    <tr>\n",
       "      <th>4</th>\n",
       "      <td>CH0374882816</td>\n",
       "      <td>GAZ-22 CHF</td>\n",
       "      <td>GAZ CAPITAL SA 2.25 19/07/22</td>\n",
       "      <td>Корпоративные еврооблигации</td>\n",
       "      <td>CH0374882816</td>\n",
       "      <td>NaN</td>\n",
       "      <td>NaN</td>\n",
       "      <td>5000,0</td>\n",
       "      <td>CHF</td>\n",
       "      <td>100000.0</td>\n",
       "      <td>...</td>\n",
       "      <td>231848,38</td>\n",
       "      <td>347772,58</td>\n",
       "      <td>14,0</td>\n",
       "      <td>2000.0</td>\n",
       "      <td>17,0</td>\n",
       "      <td>10000.0</td>\n",
       "      <td>20,0</td>\n",
       "      <td>14,00000</td>\n",
       "      <td>14,00000</td>\n",
       "      <td>1.0</td>\n",
       "    </tr>\n",
       "  </tbody>\n",
       "</table>\n",
       "<p>5 rows × 54 columns</p>\n",
       "</div>"
      ],
      "text/plain": [
       "          SECID   SHORTNAME                          NAME  \\\n",
       "0  AMUNIBB2AER2  UBANK11/22         UNIBANK OJSC Series 1   \n",
       "1  AMUNIBB2DER6  UBANK02/24      UNIBANK OJSC Series 1 21   \n",
       "2  AT0000A2UF10   Raiff CAG      Raiffeisen Centrobank AG   \n",
       "3  CH0248531110  VTB-24 CHF       VTB CAPITAL S.A. 24 CHF   \n",
       "4  CH0374882816  GAZ-22 CHF  GAZ CAPITAL SA 2.25 19/07/22   \n",
       "\n",
       "                      TYPENAME          ISIN REGNUMBER  LISTLEVEL FACEVALUE  \\\n",
       "0  Корпоративные еврооблигации  AMUNIBB2AER2       NaN        3.0     100,0   \n",
       "1  Корпоративные еврооблигации  AMUNIBB2DER6       NaN        3.0     100,0   \n",
       "2  Корпоративные еврооблигации  AT0000A2UF10       NaN        3.0    1000,0   \n",
       "3  Корпоративные еврооблигации  CH0248531110       NaN        NaN    5000,0   \n",
       "4  Корпоративные еврооблигации  CH0374882816       NaN        NaN    5000,0   \n",
       "\n",
       "  FACEUNIT  ISSUESIZE  ...       RTL3       RTH3 DISCOUNT1  LIMIT1 DISCOUNT2  \\\n",
       "0      USD    10000.0  ...        0,0   13420,22     100,0     NaN       NaN   \n",
       "1      USD    33478.0  ...        0,0   13583,24     100,0     NaN       NaN   \n",
       "2      USD    50000.0  ...        0,0  111690,14     100,0     NaN       NaN   \n",
       "3      CHF    70000.0  ...        0,0   759185,2     100,0     NaN       NaN   \n",
       "4      CHF   100000.0  ...  231848,38  347772,58      14,0  2000.0      17,0   \n",
       "\n",
       "    LIMIT2  DISCOUNT3  DISCOUNTL0  DISCOUNTH0  FULLCOVERED  \n",
       "0      NaN        NaN   100,00000   100,00000          1.0  \n",
       "1      NaN        NaN   100,00000   100,00000          1.0  \n",
       "2      NaN        NaN   100,00000   100,00000          1.0  \n",
       "3      NaN        NaN   100,00000   100,00000          1.0  \n",
       "4  10000.0       20,0    14,00000    14,00000          1.0  \n",
       "\n",
       "[5 rows x 54 columns]"
      ]
     },
     "execution_count": 2,
     "metadata": {},
     "output_type": "execute_result"
    }
   ],
   "source": [
    "bond_url = 'https://iss.moex.com/iss/apps/infogrid/emission/rates.csv?iss.dp=comma&iss.df=%25d.%25m.%25Y&iss.tf=%25H:%25M:%25S&iss.dtf=%25d.%25m.%25Y%25H:%25M:%25S&iss.only=rates&limit=unlimited&lang=ru'\n",
    "s = requests.get(bond_url).content\n",
    "df = pd.read_csv(io.StringIO(s.decode('cp1251')), sep=';', header=1)\n",
    "df.head()"
   ]
  },
  {
   "cell_type": "code",
   "execution_count": 3,
   "id": "9635d245",
   "metadata": {
    "scrolled": true
   },
   "outputs": [
    {
     "name": "stdout",
     "output_type": "stream",
     "text": [
      "<class 'pandas.core.frame.DataFrame'>\n",
      "RangeIndex: 2666 entries, 0 to 2665\n",
      "Data columns (total 54 columns):\n",
      " #   Column                  Non-Null Count  Dtype  \n",
      "---  ------                  --------------  -----  \n",
      " 0   SECID                   2666 non-null   object \n",
      " 1   SHORTNAME               2666 non-null   object \n",
      " 2   NAME                    2666 non-null   object \n",
      " 3   TYPENAME                2666 non-null   object \n",
      " 4   ISIN                    2666 non-null   object \n",
      " 5   REGNUMBER               2274 non-null   object \n",
      " 6   LISTLEVEL               2410 non-null   float64\n",
      " 7   FACEVALUE               2666 non-null   object \n",
      " 8   FACEUNIT                2666 non-null   object \n",
      " 9   ISSUESIZE               2650 non-null   float64\n",
      " 10  IS_COLLATERAL           2666 non-null   int64  \n",
      " 11  IS_EXTERNAL             2666 non-null   int64  \n",
      " 12  PRIMARY_BOARDID         2666 non-null   object \n",
      " 13  PRIMARY_BOARD_TITLE     2666 non-null   object \n",
      " 14  MATDATE                 2615 non-null   object \n",
      " 15  IS_RII                  12 non-null     object \n",
      " 16  EVENINGSESSION          2666 non-null   int64  \n",
      " 17  MORNINGSESSION          2666 non-null   int64  \n",
      " 18  DURATION                1491 non-null   float64\n",
      " 19  IS_QUALIFIED_INVESTORS  2666 non-null   int64  \n",
      " 20  HIGH_RISK               2666 non-null   int64  \n",
      " 21  COUPONFREQUENCY         2312 non-null   float64\n",
      " 22  YIELDATWAP              1052 non-null   object \n",
      " 23  COUPONDATE              2653 non-null   object \n",
      " 24  COUPONPERCENT           2540 non-null   object \n",
      " 25  COUPONVALUE             2537 non-null   object \n",
      " 26  COUPONDAYSPASSED        2653 non-null   float64\n",
      " 27  COUPONDAYSREMAIN        2653 non-null   float64\n",
      " 28  COUPONLENGTH            2653 non-null   float64\n",
      " 29  ISSUEDATE               2517 non-null   object \n",
      " 30  INITIALFACEVALUE        2666 non-null   object \n",
      " 31  SECSUBTYPE              137 non-null    object \n",
      " 32  STARTDATEMOEX           2380 non-null   object \n",
      " 33  DAYSTOREDEMPTION        2615 non-null   float64\n",
      " 34  OFFERDATE               467 non-null    object \n",
      " 35  EMITENTNAME             2517 non-null   object \n",
      " 36  INN                     2511 non-null   float64\n",
      " 37  LOTSIZE                 2666 non-null   int64  \n",
      " 38  PRICE                   2482 non-null   object \n",
      " 39  PRICE_RUB               2482 non-null   object \n",
      " 40  RTL1                    2482 non-null   object \n",
      " 41  RTH1                    2482 non-null   object \n",
      " 42  RTL2                    2482 non-null   object \n",
      " 43  RTH2                    2482 non-null   object \n",
      " 44  RTL3                    2482 non-null   object \n",
      " 45  RTH3                    2482 non-null   object \n",
      " 46  DISCOUNT1               2666 non-null   object \n",
      " 47  LIMIT1                  893 non-null    float64\n",
      " 48  DISCOUNT2               893 non-null    object \n",
      " 49  LIMIT2                  893 non-null    float64\n",
      " 50  DISCOUNT3               893 non-null    object \n",
      " 51  DISCOUNTL0              2482 non-null   object \n",
      " 52  DISCOUNTH0              2482 non-null   object \n",
      " 53  FULLCOVERED             2482 non-null   float64\n",
      "dtypes: float64(12), int64(7), object(35)\n",
      "memory usage: 1.1+ MB\n"
     ]
    }
   ],
   "source": [
    "df.info()"
   ]
  },
  {
   "cell_type": "markdown",
   "id": "30fdea49",
   "metadata": {},
   "source": [
    "#### 1. Оценить рынок рублевых облигаций по распределению купонной доходности, предложить разделение на кластеры по купонной доходности. Предложить графическое представление полученных групп/кластеров. (график)"
   ]
  },
  {
   "cell_type": "code",
   "execution_count": 4,
   "id": "e77bf545",
   "metadata": {},
   "outputs": [
    {
     "name": "stderr",
     "output_type": "stream",
     "text": [
      "C:\\Users\\anna_\\AppData\\Local\\Temp/ipykernel_772/2815018831.py:3: UserWarning: Boolean Series key will be reindexed to match DataFrame index.\n",
      "  rub_bonds = df[df['SECID'].str.match('^RU')][df['FACEUNIT'] == 'RUB'].copy(deep=True)\n"
     ]
    },
    {
     "data": {
      "text/plain": [
       "2174"
      ]
     },
     "execution_count": 4,
     "metadata": {},
     "output_type": "execute_result"
    }
   ],
   "source": [
    "# отбираем только рублевые облигации, код ценбум начинается с RU\n",
    "\n",
    "rub_bonds = df[df['SECID'].str.match('^RU')][df['FACEUNIT'] == 'RUB'].copy(deep=True)\n",
    "len(rub_bonds)"
   ]
  },
  {
   "cell_type": "markdown",
   "id": "d49d0093",
   "metadata": {},
   "source": [
    "### Дубликаты"
   ]
  },
  {
   "cell_type": "code",
   "execution_count": 5,
   "id": "16e71e24",
   "metadata": {},
   "outputs": [
    {
     "data": {
      "text/plain": [
       "0"
      ]
     },
     "execution_count": 5,
     "metadata": {},
     "output_type": "execute_result"
    }
   ],
   "source": [
    "rub_bonds.duplicated().sum()"
   ]
  },
  {
   "cell_type": "markdown",
   "id": "028efb88",
   "metadata": {},
   "source": [
    "### Пропущенные значения"
   ]
  },
  {
   "cell_type": "code",
   "execution_count": 6,
   "id": "775dbf1a",
   "metadata": {
    "scrolled": true
   },
   "outputs": [
    {
     "data": {
      "text/plain": [
       "SECID                        0\n",
       "SHORTNAME                    0\n",
       "NAME                         0\n",
       "TYPENAME                     0\n",
       "ISIN                         0\n",
       "REGNUMBER                   28\n",
       "LISTLEVEL                  145\n",
       "FACEVALUE                    0\n",
       "FACEUNIT                     0\n",
       "ISSUESIZE                   15\n",
       "IS_COLLATERAL                0\n",
       "IS_EXTERNAL                  0\n",
       "PRIMARY_BOARDID              0\n",
       "PRIMARY_BOARD_TITLE          0\n",
       "MATDATE                     29\n",
       "IS_RII                    2162\n",
       "EVENINGSESSION               0\n",
       "MORNINGSESSION               0\n",
       "DURATION                   739\n",
       "IS_QUALIFIED_INVESTORS       0\n",
       "HIGH_RISK                    0\n",
       "COUPONFREQUENCY            335\n",
       "YIELDATWAP                1184\n",
       "COUPONDATE                   4\n",
       "COUPONPERCENT               37\n",
       "COUPONVALUE                 35\n",
       "COUPONDAYSPASSED             4\n",
       "COUPONDAYSREMAIN             4\n",
       "COUPONLENGTH                 4\n",
       "ISSUEDATE                  145\n",
       "INITIALFACEVALUE             0\n",
       "SECSUBTYPE                2069\n",
       "STARTDATEMOEX              167\n",
       "DAYSTOREDEMPTION            29\n",
       "OFFERDATE                 1710\n",
       "EMITENTNAME                145\n",
       "INN                        145\n",
       "LOTSIZE                      0\n",
       "PRICE                      149\n",
       "PRICE_RUB                  149\n",
       "RTL1                       149\n",
       "RTH1                       149\n",
       "RTL2                       149\n",
       "RTH2                       149\n",
       "RTL3                       149\n",
       "RTH3                       149\n",
       "DISCOUNT1                    0\n",
       "LIMIT1                    1466\n",
       "DISCOUNT2                 1466\n",
       "LIMIT2                    1466\n",
       "DISCOUNT3                 1466\n",
       "DISCOUNTL0                 149\n",
       "DISCOUNTH0                 149\n",
       "FULLCOVERED                149\n",
       "dtype: int64"
      ]
     },
     "execution_count": 6,
     "metadata": {},
     "output_type": "execute_result"
    }
   ],
   "source": [
    "rub_bonds.isna().sum()"
   ]
  },
  {
   "cell_type": "markdown",
   "id": "b7976f52",
   "metadata": {},
   "source": [
    "### Удаление столбцов, не участвующих в расчете купонной доходности"
   ]
  },
  {
   "cell_type": "code",
   "execution_count": 7,
   "id": "b57107fb",
   "metadata": {},
   "outputs": [],
   "source": [
    "rub_bonds.drop(columns=['TYPENAME', 'ISIN', 'REGNUMBER', 'LISTLEVEL', 'IS_COLLATERAL', 'IS_EXTERNAL', 'PRIMARY_BOARDID', 'PRIMARY_BOARD_TITLE', \n",
    "                        'DURATION', 'EVENINGSESSION', 'MORNINGSESSION', 'YIELDATWAP', 'INITIALFACEVALUE', 'SECSUBTYPE', 'STARTDATEMOEX',\n",
    "                        'LOTSIZE', 'RTL1', 'RTH1', 'RTL2', 'RTH2', 'RTL3', 'RTH3', 'DISCOUNT1', 'LIMIT1', 'IS_RII',\n",
    "                        'DISCOUNT2', 'LIMIT2', 'DISCOUNT3', 'DISCOUNTL0', 'DISCOUNTH0', 'FULLCOVERED', 'OFFERDATE'], inplace=True)"
   ]
  },
  {
   "cell_type": "markdown",
   "id": "39a05471",
   "metadata": {},
   "source": [
    "### Удаление строк с NaN-значениями в определенных колонках"
   ]
  },
  {
   "cell_type": "code",
   "execution_count": 8,
   "id": "277d724d",
   "metadata": {},
   "outputs": [],
   "source": [
    "# NaN-значение в столбце PRICE означает, что в текущую дату не было сделок на Мосбирже\n",
    "\n",
    "rub_bonds.dropna(subset=['COUPONPERCENT', 'COUPONDAYSPASSED', 'PRICE', 'PRICE_RUB'], inplace=True)"
   ]
  },
  {
   "cell_type": "markdown",
   "id": "ad195147",
   "metadata": {},
   "source": [
    "### Преобразование типов данных"
   ]
  },
  {
   "cell_type": "code",
   "execution_count": 9,
   "id": "b8ca3508",
   "metadata": {},
   "outputs": [],
   "source": [
    "rub_bonds['FACEVALUE'] = pd.to_numeric(rub_bonds['FACEVALUE'].str.replace(',', '.')).astype(int)              "
   ]
  },
  {
   "cell_type": "code",
   "execution_count": 10,
   "id": "43c17fa3",
   "metadata": {},
   "outputs": [],
   "source": [
    "rub_bonds['MATDATE'] = pd.to_datetime(rub_bonds['MATDATE'], format='%d.%m.%Y')\n",
    "rub_bonds['COUPONDATE'] = pd.to_datetime(rub_bonds['COUPONDATE'], format='%d.%m.%Y')\n",
    "rub_bonds['ISSUEDATE'] = pd.to_datetime(rub_bonds['ISSUEDATE'], format='%d.%m.%Y')"
   ]
  },
  {
   "cell_type": "code",
   "execution_count": 11,
   "id": "78a4c2d6",
   "metadata": {},
   "outputs": [],
   "source": [
    "rub_bonds['COUPONPERCENT'] = pd.to_numeric(rub_bonds['COUPONPERCENT'].str.replace(',', '.'))\n",
    "rub_bonds['COUPONVALUE'] = pd.to_numeric(rub_bonds['COUPONVALUE'].str.replace(',', '.'))"
   ]
  },
  {
   "cell_type": "code",
   "execution_count": 12,
   "id": "6fbef9bc",
   "metadata": {},
   "outputs": [],
   "source": [
    "rub_bonds['ISSUESIZE'] = rub_bonds['ISSUESIZE'].astype(int)\n",
    "rub_bonds['COUPONDAYSPASSED'] = rub_bonds['COUPONDAYSPASSED'].astype(int)\n",
    "rub_bonds['COUPONDAYSREMAIN'] = rub_bonds['COUPONDAYSREMAIN'].astype(int)\n",
    "rub_bonds['COUPONLENGTH'] = rub_bonds['COUPONLENGTH'].astype(int)\n",
    "rub_bonds['COUPONFREQUENCY'] = rub_bonds['COUPONFREQUENCY'].astype(float).astype('Int64')\n",
    "rub_bonds['DAYSTOREDEMPTION'] = rub_bonds['DAYSTOREDEMPTION'].astype(float).astype('Int64')"
   ]
  },
  {
   "cell_type": "code",
   "execution_count": 13,
   "id": "85660e7e",
   "metadata": {},
   "outputs": [],
   "source": [
    "rub_bonds['INN'] = rub_bonds['INN'].fillna(0).map('{:.0f}'.format).astype(str)"
   ]
  },
  {
   "cell_type": "code",
   "execution_count": 14,
   "id": "730146b7",
   "metadata": {},
   "outputs": [],
   "source": [
    "rub_bonds['PRICE'] = pd.to_numeric(rub_bonds['PRICE'].str.replace(',', '.'))\n",
    "rub_bonds['PRICE_RUB'] = pd.to_numeric(rub_bonds['PRICE_RUB'].str.replace(',', '.'))"
   ]
  },
  {
   "cell_type": "code",
   "execution_count": 15,
   "id": "72d19933",
   "metadata": {},
   "outputs": [
    {
     "data": {
      "text/html": [
       "<div>\n",
       "<style scoped>\n",
       "    .dataframe tbody tr th:only-of-type {\n",
       "        vertical-align: middle;\n",
       "    }\n",
       "\n",
       "    .dataframe tbody tr th {\n",
       "        vertical-align: top;\n",
       "    }\n",
       "\n",
       "    .dataframe thead th {\n",
       "        text-align: right;\n",
       "    }\n",
       "</style>\n",
       "<table border=\"1\" class=\"dataframe\">\n",
       "  <thead>\n",
       "    <tr style=\"text-align: right;\">\n",
       "      <th></th>\n",
       "      <th>SECID</th>\n",
       "      <th>SHORTNAME</th>\n",
       "      <th>NAME</th>\n",
       "      <th>FACEVALUE</th>\n",
       "      <th>FACEUNIT</th>\n",
       "      <th>ISSUESIZE</th>\n",
       "      <th>MATDATE</th>\n",
       "      <th>IS_QUALIFIED_INVESTORS</th>\n",
       "      <th>HIGH_RISK</th>\n",
       "      <th>COUPONFREQUENCY</th>\n",
       "      <th>...</th>\n",
       "      <th>COUPONVALUE</th>\n",
       "      <th>COUPONDAYSPASSED</th>\n",
       "      <th>COUPONDAYSREMAIN</th>\n",
       "      <th>COUPONLENGTH</th>\n",
       "      <th>ISSUEDATE</th>\n",
       "      <th>DAYSTOREDEMPTION</th>\n",
       "      <th>EMITENTNAME</th>\n",
       "      <th>INN</th>\n",
       "      <th>PRICE</th>\n",
       "      <th>PRICE_RUB</th>\n",
       "    </tr>\n",
       "  </thead>\n",
       "  <tbody>\n",
       "    <tr>\n",
       "      <th>2244</th>\n",
       "      <td>RU000A104TM1</td>\n",
       "      <td>ХайТэк 01</td>\n",
       "      <td>Хайтэк-Интеграция БО-01</td>\n",
       "      <td>1000</td>\n",
       "      <td>RUB</td>\n",
       "      <td>150000</td>\n",
       "      <td>2025-05-15</td>\n",
       "      <td>0</td>\n",
       "      <td>0</td>\n",
       "      <td>4</td>\n",
       "      <td>...</td>\n",
       "      <td>59.84</td>\n",
       "      <td>11</td>\n",
       "      <td>80</td>\n",
       "      <td>91</td>\n",
       "      <td>2022-05-19</td>\n",
       "      <td>1081</td>\n",
       "      <td>Общество с ограниченной ответственностью \"Хайт...</td>\n",
       "      <td>7722350688</td>\n",
       "      <td>99.97</td>\n",
       "      <td>1006.93</td>\n",
       "    </tr>\n",
       "    <tr>\n",
       "      <th>2246</th>\n",
       "      <td>RU000A104U68</td>\n",
       "      <td>ИНГРАД 2P3</td>\n",
       "      <td>ИНГРАД 002P-03</td>\n",
       "      <td>1000</td>\n",
       "      <td>RUB</td>\n",
       "      <td>10000000</td>\n",
       "      <td>2032-05-14</td>\n",
       "      <td>0</td>\n",
       "      <td>0</td>\n",
       "      <td>2</td>\n",
       "      <td>...</td>\n",
       "      <td>76.34</td>\n",
       "      <td>3</td>\n",
       "      <td>179</td>\n",
       "      <td>182</td>\n",
       "      <td>2022-05-27</td>\n",
       "      <td>3637</td>\n",
       "      <td>Публичное акционерное общество \"ИНГРАД\"</td>\n",
       "      <td>7702336269</td>\n",
       "      <td>100.00</td>\n",
       "      <td>1001.26</td>\n",
       "    </tr>\n",
       "    <tr>\n",
       "      <th>2248</th>\n",
       "      <td>RU000A104UA4</td>\n",
       "      <td>Сегежа2P4R</td>\n",
       "      <td>ГК Сегежа 002P-04R</td>\n",
       "      <td>1000</td>\n",
       "      <td>RUB</td>\n",
       "      <td>7000000</td>\n",
       "      <td>2037-05-11</td>\n",
       "      <td>0</td>\n",
       "      <td>0</td>\n",
       "      <td>4</td>\n",
       "      <td>...</td>\n",
       "      <td>27.42</td>\n",
       "      <td>0</td>\n",
       "      <td>91</td>\n",
       "      <td>91</td>\n",
       "      <td>2022-05-30</td>\n",
       "      <td>5460</td>\n",
       "      <td>Публичное акционерное общество Группа компаний...</td>\n",
       "      <td>9703024202</td>\n",
       "      <td>100.00</td>\n",
       "      <td>1000.00</td>\n",
       "    </tr>\n",
       "  </tbody>\n",
       "</table>\n",
       "<p>3 rows × 22 columns</p>\n",
       "</div>"
      ],
      "text/plain": [
       "             SECID   SHORTNAME                     NAME  FACEVALUE FACEUNIT  \\\n",
       "2244  RU000A104TM1   ХайТэк 01  Хайтэк-Интеграция БО-01       1000      RUB   \n",
       "2246  RU000A104U68  ИНГРАД 2P3           ИНГРАД 002P-03       1000      RUB   \n",
       "2248  RU000A104UA4  Сегежа2P4R       ГК Сегежа 002P-04R       1000      RUB   \n",
       "\n",
       "      ISSUESIZE    MATDATE  IS_QUALIFIED_INVESTORS  HIGH_RISK  \\\n",
       "2244     150000 2025-05-15                       0          0   \n",
       "2246   10000000 2032-05-14                       0          0   \n",
       "2248    7000000 2037-05-11                       0          0   \n",
       "\n",
       "      COUPONFREQUENCY  ... COUPONVALUE  COUPONDAYSPASSED  COUPONDAYSREMAIN  \\\n",
       "2244                4  ...       59.84                11                80   \n",
       "2246                2  ...       76.34                 3               179   \n",
       "2248                4  ...       27.42                 0                91   \n",
       "\n",
       "      COUPONLENGTH  ISSUEDATE  DAYSTOREDEMPTION  \\\n",
       "2244            91 2022-05-19              1081   \n",
       "2246           182 2022-05-27              3637   \n",
       "2248            91 2022-05-30              5460   \n",
       "\n",
       "                                            EMITENTNAME         INN   PRICE  \\\n",
       "2244  Общество с ограниченной ответственностью \"Хайт...  7722350688   99.97   \n",
       "2246            Публичное акционерное общество \"ИНГРАД\"  7702336269  100.00   \n",
       "2248  Публичное акционерное общество Группа компаний...  9703024202  100.00   \n",
       "\n",
       "     PRICE_RUB  \n",
       "2244   1006.93  \n",
       "2246   1001.26  \n",
       "2248   1000.00  \n",
       "\n",
       "[3 rows x 22 columns]"
      ]
     },
     "execution_count": 15,
     "metadata": {},
     "output_type": "execute_result"
    }
   ],
   "source": [
    "rub_bonds.tail(3)"
   ]
  },
  {
   "cell_type": "code",
   "execution_count": 16,
   "id": "a25c5cb1",
   "metadata": {},
   "outputs": [
    {
     "name": "stdout",
     "output_type": "stream",
     "text": [
      "<class 'pandas.core.frame.DataFrame'>\n",
      "Int64Index: 1991 entries, 13 to 2248\n",
      "Data columns (total 22 columns):\n",
      " #   Column                  Non-Null Count  Dtype         \n",
      "---  ------                  --------------  -----         \n",
      " 0   SECID                   1991 non-null   object        \n",
      " 1   SHORTNAME               1991 non-null   object        \n",
      " 2   NAME                    1991 non-null   object        \n",
      " 3   FACEVALUE               1991 non-null   int32         \n",
      " 4   FACEUNIT                1991 non-null   object        \n",
      " 5   ISSUESIZE               1991 non-null   int32         \n",
      " 6   MATDATE                 1962 non-null   datetime64[ns]\n",
      " 7   IS_QUALIFIED_INVESTORS  1991 non-null   int64         \n",
      " 8   HIGH_RISK               1991 non-null   int64         \n",
      " 9   COUPONFREQUENCY         1668 non-null   Int64         \n",
      " 10  COUPONDATE              1991 non-null   datetime64[ns]\n",
      " 11  COUPONPERCENT           1991 non-null   float64       \n",
      " 12  COUPONVALUE             1991 non-null   float64       \n",
      " 13  COUPONDAYSPASSED        1991 non-null   int32         \n",
      " 14  COUPONDAYSREMAIN        1991 non-null   int32         \n",
      " 15  COUPONLENGTH            1991 non-null   int32         \n",
      " 16  ISSUEDATE               1991 non-null   datetime64[ns]\n",
      " 17  DAYSTOREDEMPTION        1962 non-null   Int64         \n",
      " 18  EMITENTNAME             1991 non-null   object        \n",
      " 19  INN                     1991 non-null   object        \n",
      " 20  PRICE                   1991 non-null   float64       \n",
      " 21  PRICE_RUB               1991 non-null   float64       \n",
      "dtypes: Int64(2), datetime64[ns](3), float64(4), int32(5), int64(2), object(6)\n",
      "memory usage: 322.8+ KB\n"
     ]
    }
   ],
   "source": [
    "rub_bonds.info()"
   ]
  },
  {
   "cell_type": "markdown",
   "id": "487a3301",
   "metadata": {},
   "source": [
    "## Данные для расчетов"
   ]
  },
  {
   "cell_type": "code",
   "execution_count": 17,
   "id": "15cf9010",
   "metadata": {},
   "outputs": [
    {
     "data": {
      "text/html": [
       "<div>\n",
       "<style scoped>\n",
       "    .dataframe tbody tr th:only-of-type {\n",
       "        vertical-align: middle;\n",
       "    }\n",
       "\n",
       "    .dataframe tbody tr th {\n",
       "        vertical-align: top;\n",
       "    }\n",
       "\n",
       "    .dataframe thead th {\n",
       "        text-align: right;\n",
       "    }\n",
       "</style>\n",
       "<table border=\"1\" class=\"dataframe\">\n",
       "  <thead>\n",
       "    <tr style=\"text-align: right;\">\n",
       "      <th></th>\n",
       "      <th>SECID</th>\n",
       "      <th>SHORTNAME</th>\n",
       "      <th>NAME</th>\n",
       "      <th>FACEVALUE</th>\n",
       "      <th>FACEUNIT</th>\n",
       "      <th>ISSUESIZE</th>\n",
       "      <th>MATDATE</th>\n",
       "      <th>IS_QUALIFIED_INVESTORS</th>\n",
       "      <th>HIGH_RISK</th>\n",
       "      <th>COUPONFREQUENCY</th>\n",
       "      <th>...</th>\n",
       "      <th>COUPONDAYSPASSED</th>\n",
       "      <th>COUPONDAYSREMAIN</th>\n",
       "      <th>COUPONLENGTH</th>\n",
       "      <th>ISSUEDATE</th>\n",
       "      <th>DAYSTOREDEMPTION</th>\n",
       "      <th>EMITENTNAME</th>\n",
       "      <th>INN</th>\n",
       "      <th>PRICE</th>\n",
       "      <th>PRICE_RUB</th>\n",
       "      <th>current_date</th>\n",
       "    </tr>\n",
       "  </thead>\n",
       "  <tbody>\n",
       "    <tr>\n",
       "      <th>13</th>\n",
       "      <td>RU000A0JNYN1</td>\n",
       "      <td>МГор48-об</td>\n",
       "      <td>Гор.Обл.Займ Москвы 48 в.</td>\n",
       "      <td>1000</td>\n",
       "      <td>RUB</td>\n",
       "      <td>30000000</td>\n",
       "      <td>2022-06-11</td>\n",
       "      <td>0</td>\n",
       "      <td>0</td>\n",
       "      <td>2</td>\n",
       "      <td>...</td>\n",
       "      <td>170</td>\n",
       "      <td>12</td>\n",
       "      <td>182</td>\n",
       "      <td>2006-12-11</td>\n",
       "      <td>12</td>\n",
       "      <td>Правительство Москвы</td>\n",
       "      <td>7710152113</td>\n",
       "      <td>99.76</td>\n",
       "      <td>1025.55</td>\n",
       "      <td>2022-05-30</td>\n",
       "    </tr>\n",
       "    <tr>\n",
       "      <th>14</th>\n",
       "      <td>RU000A0JQ5C5</td>\n",
       "      <td>НПФ 01</td>\n",
       "      <td>\"НПФ\" ООО об.сер. 01</td>\n",
       "      <td>1000</td>\n",
       "      <td>RUB</td>\n",
       "      <td>40800</td>\n",
       "      <td>2029-05-06</td>\n",
       "      <td>0</td>\n",
       "      <td>1</td>\n",
       "      <td>&lt;NA&gt;</td>\n",
       "      <td>...</td>\n",
       "      <td>4771</td>\n",
       "      <td>2533</td>\n",
       "      <td>7304</td>\n",
       "      <td>2009-05-07</td>\n",
       "      <td>2533</td>\n",
       "      <td>Общество с ограниченной ответственностью \"Недв...</td>\n",
       "      <td>6658196868</td>\n",
       "      <td>100.00</td>\n",
       "      <td>1653.56</td>\n",
       "      <td>2022-05-30</td>\n",
       "    </tr>\n",
       "  </tbody>\n",
       "</table>\n",
       "<p>2 rows × 23 columns</p>\n",
       "</div>"
      ],
      "text/plain": [
       "           SECID  SHORTNAME                       NAME  FACEVALUE FACEUNIT  \\\n",
       "13  RU000A0JNYN1  МГор48-об  Гор.Обл.Займ Москвы 48 в.       1000      RUB   \n",
       "14  RU000A0JQ5C5     НПФ 01       \"НПФ\" ООО об.сер. 01       1000      RUB   \n",
       "\n",
       "    ISSUESIZE    MATDATE  IS_QUALIFIED_INVESTORS  HIGH_RISK  COUPONFREQUENCY  \\\n",
       "13   30000000 2022-06-11                       0          0                2   \n",
       "14      40800 2029-05-06                       0          1             <NA>   \n",
       "\n",
       "    ... COUPONDAYSPASSED  COUPONDAYSREMAIN  COUPONLENGTH  ISSUEDATE  \\\n",
       "13  ...              170                12           182 2006-12-11   \n",
       "14  ...             4771              2533          7304 2009-05-07   \n",
       "\n",
       "    DAYSTOREDEMPTION                                        EMITENTNAME  \\\n",
       "13                12                               Правительство Москвы   \n",
       "14              2533  Общество с ограниченной ответственностью \"Недв...   \n",
       "\n",
       "           INN   PRICE PRICE_RUB current_date  \n",
       "13  7710152113   99.76   1025.55   2022-05-30  \n",
       "14  6658196868  100.00   1653.56   2022-05-30  \n",
       "\n",
       "[2 rows x 23 columns]"
      ]
     },
     "execution_count": 17,
     "metadata": {},
     "output_type": "execute_result"
    }
   ],
   "source": [
    "# Добавим текущую дату в таблицу\n",
    "\n",
    "rub_bonds['current_date'] = datetime.date.today()\n",
    "rub_bonds.head(2)"
   ]
  },
  {
   "cell_type": "code",
   "execution_count": 18,
   "id": "3589f731",
   "metadata": {},
   "outputs": [],
   "source": [
    "# Период расчета доходности рекомендуется выбирать 365 дней (1 год) с текущей даты\n",
    "period = 365\n",
    "years = 1\n",
    "\n",
    "# НДФЛ 13%\n",
    "NDFL = 0.87\n",
    "\n",
    "# комиссия брокера 0.06%\n",
    "broker_commission = 0.06 / 100\n",
    "\n",
    "# комиссия Биржи 0,0125%\n",
    "moex_commission = 0.0125 / 100\n",
    "\n",
    "# цена покупки\n",
    "price = rub_bonds['PRICE'] * rub_bonds['FACEVALUE'] / 100\n",
    "\n",
    "# купонный доход, руб.\n",
    "KD = rub_bonds['FACEVALUE'] * rub_bonds['COUPONPERCENT'] / 100"
   ]
  },
  {
   "cell_type": "markdown",
   "id": "d0bf6e60",
   "metadata": {},
   "source": [
    "### Расчет НКД"
   ]
  },
  {
   "cell_type": "code",
   "execution_count": 19,
   "id": "b68dbe7b",
   "metadata": {},
   "outputs": [],
   "source": [
    "# Накопленный купонный доход в % рассчитывается как произведение ставки купона на кол-во дней с момента последней даты\n",
    "# выплаты купона, деленное на 365 дней.\n",
    "# Для расчета НКД в рублях умножаем на номинальную стоимость облигации и делим на 100%.\n",
    "\n",
    "rub_bonds['NKD_RUB'] = (rub_bonds['COUPONPERCENT'] / 100 * rub_bonds['FACEVALUE']) * rub_bonds['COUPONDAYSPASSED'] / period\n",
    "rub_bonds['NKD_RUB'] = rub_bonds['NKD_RUB'].round(2)"
   ]
  },
  {
   "cell_type": "code",
   "execution_count": 20,
   "id": "96263d7f",
   "metadata": {},
   "outputs": [
    {
     "data": {
      "text/html": [
       "<div>\n",
       "<style scoped>\n",
       "    .dataframe tbody tr th:only-of-type {\n",
       "        vertical-align: middle;\n",
       "    }\n",
       "\n",
       "    .dataframe tbody tr th {\n",
       "        vertical-align: top;\n",
       "    }\n",
       "\n",
       "    .dataframe thead th {\n",
       "        text-align: right;\n",
       "    }\n",
       "</style>\n",
       "<table border=\"1\" class=\"dataframe\">\n",
       "  <thead>\n",
       "    <tr style=\"text-align: right;\">\n",
       "      <th></th>\n",
       "      <th>SECID</th>\n",
       "      <th>SHORTNAME</th>\n",
       "      <th>NAME</th>\n",
       "      <th>FACEVALUE</th>\n",
       "      <th>FACEUNIT</th>\n",
       "      <th>ISSUESIZE</th>\n",
       "      <th>MATDATE</th>\n",
       "      <th>IS_QUALIFIED_INVESTORS</th>\n",
       "      <th>HIGH_RISK</th>\n",
       "      <th>COUPONFREQUENCY</th>\n",
       "      <th>...</th>\n",
       "      <th>COUPONDAYSREMAIN</th>\n",
       "      <th>COUPONLENGTH</th>\n",
       "      <th>ISSUEDATE</th>\n",
       "      <th>DAYSTOREDEMPTION</th>\n",
       "      <th>EMITENTNAME</th>\n",
       "      <th>INN</th>\n",
       "      <th>PRICE</th>\n",
       "      <th>PRICE_RUB</th>\n",
       "      <th>current_date</th>\n",
       "      <th>NKD_RUB</th>\n",
       "    </tr>\n",
       "  </thead>\n",
       "  <tbody>\n",
       "    <tr>\n",
       "      <th>2244</th>\n",
       "      <td>RU000A104TM1</td>\n",
       "      <td>ХайТэк 01</td>\n",
       "      <td>Хайтэк-Интеграция БО-01</td>\n",
       "      <td>1000</td>\n",
       "      <td>RUB</td>\n",
       "      <td>150000</td>\n",
       "      <td>2025-05-15</td>\n",
       "      <td>0</td>\n",
       "      <td>0</td>\n",
       "      <td>4</td>\n",
       "      <td>...</td>\n",
       "      <td>80</td>\n",
       "      <td>91</td>\n",
       "      <td>2022-05-19</td>\n",
       "      <td>1081</td>\n",
       "      <td>Общество с ограниченной ответственностью \"Хайт...</td>\n",
       "      <td>7722350688</td>\n",
       "      <td>99.97</td>\n",
       "      <td>1006.93</td>\n",
       "      <td>2022-05-30</td>\n",
       "      <td>7.23</td>\n",
       "    </tr>\n",
       "    <tr>\n",
       "      <th>2246</th>\n",
       "      <td>RU000A104U68</td>\n",
       "      <td>ИНГРАД 2P3</td>\n",
       "      <td>ИНГРАД 002P-03</td>\n",
       "      <td>1000</td>\n",
       "      <td>RUB</td>\n",
       "      <td>10000000</td>\n",
       "      <td>2032-05-14</td>\n",
       "      <td>0</td>\n",
       "      <td>0</td>\n",
       "      <td>2</td>\n",
       "      <td>...</td>\n",
       "      <td>179</td>\n",
       "      <td>182</td>\n",
       "      <td>2022-05-27</td>\n",
       "      <td>3637</td>\n",
       "      <td>Публичное акционерное общество \"ИНГРАД\"</td>\n",
       "      <td>7702336269</td>\n",
       "      <td>100.00</td>\n",
       "      <td>1001.26</td>\n",
       "      <td>2022-05-30</td>\n",
       "      <td>1.26</td>\n",
       "    </tr>\n",
       "    <tr>\n",
       "      <th>2248</th>\n",
       "      <td>RU000A104UA4</td>\n",
       "      <td>Сегежа2P4R</td>\n",
       "      <td>ГК Сегежа 002P-04R</td>\n",
       "      <td>1000</td>\n",
       "      <td>RUB</td>\n",
       "      <td>7000000</td>\n",
       "      <td>2037-05-11</td>\n",
       "      <td>0</td>\n",
       "      <td>0</td>\n",
       "      <td>4</td>\n",
       "      <td>...</td>\n",
       "      <td>91</td>\n",
       "      <td>91</td>\n",
       "      <td>2022-05-30</td>\n",
       "      <td>5460</td>\n",
       "      <td>Публичное акционерное общество Группа компаний...</td>\n",
       "      <td>9703024202</td>\n",
       "      <td>100.00</td>\n",
       "      <td>1000.00</td>\n",
       "      <td>2022-05-30</td>\n",
       "      <td>0.00</td>\n",
       "    </tr>\n",
       "  </tbody>\n",
       "</table>\n",
       "<p>3 rows × 24 columns</p>\n",
       "</div>"
      ],
      "text/plain": [
       "             SECID   SHORTNAME                     NAME  FACEVALUE FACEUNIT  \\\n",
       "2244  RU000A104TM1   ХайТэк 01  Хайтэк-Интеграция БО-01       1000      RUB   \n",
       "2246  RU000A104U68  ИНГРАД 2P3           ИНГРАД 002P-03       1000      RUB   \n",
       "2248  RU000A104UA4  Сегежа2P4R       ГК Сегежа 002P-04R       1000      RUB   \n",
       "\n",
       "      ISSUESIZE    MATDATE  IS_QUALIFIED_INVESTORS  HIGH_RISK  \\\n",
       "2244     150000 2025-05-15                       0          0   \n",
       "2246   10000000 2032-05-14                       0          0   \n",
       "2248    7000000 2037-05-11                       0          0   \n",
       "\n",
       "      COUPONFREQUENCY  ... COUPONDAYSREMAIN  COUPONLENGTH  ISSUEDATE  \\\n",
       "2244                4  ...               80            91 2022-05-19   \n",
       "2246                2  ...              179           182 2022-05-27   \n",
       "2248                4  ...               91            91 2022-05-30   \n",
       "\n",
       "      DAYSTOREDEMPTION                                        EMITENTNAME  \\\n",
       "2244              1081  Общество с ограниченной ответственностью \"Хайт...   \n",
       "2246              3637            Публичное акционерное общество \"ИНГРАД\"   \n",
       "2248              5460  Публичное акционерное общество Группа компаний...   \n",
       "\n",
       "             INN   PRICE  PRICE_RUB current_date NKD_RUB  \n",
       "2244  7722350688   99.97    1006.93   2022-05-30    7.23  \n",
       "2246  7702336269  100.00    1001.26   2022-05-30    1.26  \n",
       "2248  9703024202  100.00    1000.00   2022-05-30    0.00  \n",
       "\n",
       "[3 rows x 24 columns]"
      ]
     },
     "execution_count": 20,
     "metadata": {},
     "output_type": "execute_result"
    }
   ],
   "source": [
    "rub_bonds.tail(3)"
   ]
  },
  {
   "cell_type": "markdown",
   "id": "fe549a22",
   "metadata": {},
   "source": [
    "### Расчет купонной доходности"
   ]
  },
  {
   "cell_type": "markdown",
   "id": "e6f8cbc8",
   "metadata": {},
   "source": [
    "\\begin{equation} \n",
    "Profit =  \\frac{((Цена_{номинальная} - Цена_{покупки}) * (1 ЕСЛИ <= 0 │ 0.87 ЕСЛИ > 0) – НКД + 0.87 * Купонный Доход_{руб} * X лет) * 100 %} {((Цена_{покупки} + НКД)*(1 + Комиссия Брокера в Процентах / 100 + Комиссия Биржи / 100))}\n",
    "\\end{equation}"
   ]
  },
  {
   "cell_type": "code",
   "execution_count": 55,
   "id": "6fc7505a",
   "metadata": {},
   "outputs": [],
   "source": [
    "# price + rub_bonds['NKD'] = rub_bonds['PRICE_RUB']"
   ]
  },
  {
   "cell_type": "code",
   "execution_count": 21,
   "id": "ad4b7cf1",
   "metadata": {},
   "outputs": [],
   "source": [
    "# результат в %\n",
    "\n",
    "rub_bonds['profit'] = ((rub_bonds['FACEVALUE'] - price).apply(lambda x: x if x <= 0 else x * NDFL) - rub_bonds['NKD_RUB'] \\\n",
    "                       + NDFL * KD * years) * 100 / (rub_bonds['PRICE_RUB'] * (1 + broker_commission + moex_commission))\n",
    "rub_bonds['profit'] = rub_bonds['profit'].round(2)"
   ]
  },
  {
   "cell_type": "code",
   "execution_count": 22,
   "id": "d5a1dc43",
   "metadata": {},
   "outputs": [
    {
     "data": {
      "text/html": [
       "<div>\n",
       "<style scoped>\n",
       "    .dataframe tbody tr th:only-of-type {\n",
       "        vertical-align: middle;\n",
       "    }\n",
       "\n",
       "    .dataframe tbody tr th {\n",
       "        vertical-align: top;\n",
       "    }\n",
       "\n",
       "    .dataframe thead th {\n",
       "        text-align: right;\n",
       "    }\n",
       "</style>\n",
       "<table border=\"1\" class=\"dataframe\">\n",
       "  <thead>\n",
       "    <tr style=\"text-align: right;\">\n",
       "      <th></th>\n",
       "      <th>SECID</th>\n",
       "      <th>SHORTNAME</th>\n",
       "      <th>NAME</th>\n",
       "      <th>FACEVALUE</th>\n",
       "      <th>FACEUNIT</th>\n",
       "      <th>ISSUESIZE</th>\n",
       "      <th>MATDATE</th>\n",
       "      <th>IS_QUALIFIED_INVESTORS</th>\n",
       "      <th>HIGH_RISK</th>\n",
       "      <th>COUPONFREQUENCY</th>\n",
       "      <th>...</th>\n",
       "      <th>COUPONLENGTH</th>\n",
       "      <th>ISSUEDATE</th>\n",
       "      <th>DAYSTOREDEMPTION</th>\n",
       "      <th>EMITENTNAME</th>\n",
       "      <th>INN</th>\n",
       "      <th>PRICE</th>\n",
       "      <th>PRICE_RUB</th>\n",
       "      <th>current_date</th>\n",
       "      <th>NKD_RUB</th>\n",
       "      <th>profit</th>\n",
       "    </tr>\n",
       "  </thead>\n",
       "  <tbody>\n",
       "    <tr>\n",
       "      <th>2242</th>\n",
       "      <td>RU000A104TD0</td>\n",
       "      <td>Ростел2P7R</td>\n",
       "      <td>Ростелеком ПАО 002P-07R</td>\n",
       "      <td>1000</td>\n",
       "      <td>RUB</td>\n",
       "      <td>5000000</td>\n",
       "      <td>2026-05-08</td>\n",
       "      <td>0</td>\n",
       "      <td>0</td>\n",
       "      <td>4</td>\n",
       "      <td>...</td>\n",
       "      <td>91</td>\n",
       "      <td>2022-05-13</td>\n",
       "      <td>1439</td>\n",
       "      <td>Публичное акционерное общество \"Ростелеком\"</td>\n",
       "      <td>7707049388</td>\n",
       "      <td>103.89</td>\n",
       "      <td>1044.37</td>\n",
       "      <td>2022-05-30</td>\n",
       "      <td>5.47</td>\n",
       "      <td>5.54</td>\n",
       "    </tr>\n",
       "    <tr>\n",
       "      <th>2243</th>\n",
       "      <td>RU000A104TG3</td>\n",
       "      <td>ЦР БО-01</td>\n",
       "      <td>Центр-резерв БО-01</td>\n",
       "      <td>1000</td>\n",
       "      <td>RUB</td>\n",
       "      <td>100000</td>\n",
       "      <td>2025-10-28</td>\n",
       "      <td>0</td>\n",
       "      <td>0</td>\n",
       "      <td>12</td>\n",
       "      <td>...</td>\n",
       "      <td>30</td>\n",
       "      <td>2022-05-17</td>\n",
       "      <td>1247</td>\n",
       "      <td>Общество с ограниченной ответственностью \"Цент...</td>\n",
       "      <td>5612069520</td>\n",
       "      <td>100.50</td>\n",
       "      <td>1012.84</td>\n",
       "      <td>2022-05-30</td>\n",
       "      <td>7.84</td>\n",
       "      <td>17.62</td>\n",
       "    </tr>\n",
       "    <tr>\n",
       "      <th>2244</th>\n",
       "      <td>RU000A104TM1</td>\n",
       "      <td>ХайТэк 01</td>\n",
       "      <td>Хайтэк-Интеграция БО-01</td>\n",
       "      <td>1000</td>\n",
       "      <td>RUB</td>\n",
       "      <td>150000</td>\n",
       "      <td>2025-05-15</td>\n",
       "      <td>0</td>\n",
       "      <td>0</td>\n",
       "      <td>4</td>\n",
       "      <td>...</td>\n",
       "      <td>91</td>\n",
       "      <td>2022-05-19</td>\n",
       "      <td>1081</td>\n",
       "      <td>Общество с ограниченной ответственностью \"Хайт...</td>\n",
       "      <td>7722350688</td>\n",
       "      <td>99.97</td>\n",
       "      <td>1006.93</td>\n",
       "      <td>2022-05-30</td>\n",
       "      <td>7.23</td>\n",
       "      <td>20.03</td>\n",
       "    </tr>\n",
       "    <tr>\n",
       "      <th>2246</th>\n",
       "      <td>RU000A104U68</td>\n",
       "      <td>ИНГРАД 2P3</td>\n",
       "      <td>ИНГРАД 002P-03</td>\n",
       "      <td>1000</td>\n",
       "      <td>RUB</td>\n",
       "      <td>10000000</td>\n",
       "      <td>2032-05-14</td>\n",
       "      <td>0</td>\n",
       "      <td>0</td>\n",
       "      <td>2</td>\n",
       "      <td>...</td>\n",
       "      <td>182</td>\n",
       "      <td>2022-05-27</td>\n",
       "      <td>3637</td>\n",
       "      <td>Публичное акционерное общество \"ИНГРАД\"</td>\n",
       "      <td>7702336269</td>\n",
       "      <td>100.00</td>\n",
       "      <td>1001.26</td>\n",
       "      <td>2022-05-30</td>\n",
       "      <td>1.26</td>\n",
       "      <td>13.17</td>\n",
       "    </tr>\n",
       "    <tr>\n",
       "      <th>2248</th>\n",
       "      <td>RU000A104UA4</td>\n",
       "      <td>Сегежа2P4R</td>\n",
       "      <td>ГК Сегежа 002P-04R</td>\n",
       "      <td>1000</td>\n",
       "      <td>RUB</td>\n",
       "      <td>7000000</td>\n",
       "      <td>2037-05-11</td>\n",
       "      <td>0</td>\n",
       "      <td>0</td>\n",
       "      <td>4</td>\n",
       "      <td>...</td>\n",
       "      <td>91</td>\n",
       "      <td>2022-05-30</td>\n",
       "      <td>5460</td>\n",
       "      <td>Публичное акционерное общество Группа компаний...</td>\n",
       "      <td>9703024202</td>\n",
       "      <td>100.00</td>\n",
       "      <td>1000.00</td>\n",
       "      <td>2022-05-30</td>\n",
       "      <td>0.00</td>\n",
       "      <td>9.56</td>\n",
       "    </tr>\n",
       "  </tbody>\n",
       "</table>\n",
       "<p>5 rows × 25 columns</p>\n",
       "</div>"
      ],
      "text/plain": [
       "             SECID   SHORTNAME                     NAME  FACEVALUE FACEUNIT  \\\n",
       "2242  RU000A104TD0  Ростел2P7R  Ростелеком ПАО 002P-07R       1000      RUB   \n",
       "2243  RU000A104TG3    ЦР БО-01       Центр-резерв БО-01       1000      RUB   \n",
       "2244  RU000A104TM1   ХайТэк 01  Хайтэк-Интеграция БО-01       1000      RUB   \n",
       "2246  RU000A104U68  ИНГРАД 2P3           ИНГРАД 002P-03       1000      RUB   \n",
       "2248  RU000A104UA4  Сегежа2P4R       ГК Сегежа 002P-04R       1000      RUB   \n",
       "\n",
       "      ISSUESIZE    MATDATE  IS_QUALIFIED_INVESTORS  HIGH_RISK  \\\n",
       "2242    5000000 2026-05-08                       0          0   \n",
       "2243     100000 2025-10-28                       0          0   \n",
       "2244     150000 2025-05-15                       0          0   \n",
       "2246   10000000 2032-05-14                       0          0   \n",
       "2248    7000000 2037-05-11                       0          0   \n",
       "\n",
       "      COUPONFREQUENCY  ... COUPONLENGTH  ISSUEDATE  DAYSTOREDEMPTION  \\\n",
       "2242                4  ...           91 2022-05-13              1439   \n",
       "2243               12  ...           30 2022-05-17              1247   \n",
       "2244                4  ...           91 2022-05-19              1081   \n",
       "2246                2  ...          182 2022-05-27              3637   \n",
       "2248                4  ...           91 2022-05-30              5460   \n",
       "\n",
       "                                            EMITENTNAME         INN   PRICE  \\\n",
       "2242        Публичное акционерное общество \"Ростелеком\"  7707049388  103.89   \n",
       "2243  Общество с ограниченной ответственностью \"Цент...  5612069520  100.50   \n",
       "2244  Общество с ограниченной ответственностью \"Хайт...  7722350688   99.97   \n",
       "2246            Публичное акционерное общество \"ИНГРАД\"  7702336269  100.00   \n",
       "2248  Публичное акционерное общество Группа компаний...  9703024202  100.00   \n",
       "\n",
       "     PRICE_RUB  current_date NKD_RUB profit  \n",
       "2242   1044.37    2022-05-30    5.47   5.54  \n",
       "2243   1012.84    2022-05-30    7.84  17.62  \n",
       "2244   1006.93    2022-05-30    7.23  20.03  \n",
       "2246   1001.26    2022-05-30    1.26  13.17  \n",
       "2248   1000.00    2022-05-30    0.00   9.56  \n",
       "\n",
       "[5 rows x 25 columns]"
      ]
     },
     "execution_count": 22,
     "metadata": {},
     "output_type": "execute_result"
    }
   ],
   "source": [
    "rub_bonds.tail()"
   ]
  },
  {
   "cell_type": "markdown",
   "id": "b4dda010",
   "metadata": {},
   "source": [
    "### Сохранение DataFrame в csv-файл"
   ]
  },
  {
   "cell_type": "code",
   "execution_count": 23,
   "id": "343779c7",
   "metadata": {},
   "outputs": [],
   "source": [
    "# rub_bonds.to_csv('rub_bonds.csv', encoding='cp1251', sep=',', index=False)"
   ]
  },
  {
   "cell_type": "markdown",
   "id": "26582a9d",
   "metadata": {},
   "source": [
    "## Метод локтя для определения количества кластеров"
   ]
  },
  {
   "cell_type": "code",
   "execution_count": 23,
   "id": "91c37c07",
   "metadata": {},
   "outputs": [
    {
     "data": {
      "image/png": "[encoded data removed]",
      "text/plain": [
       "<Figure size 720x360 with 1 Axes>"
      ]
     },
     "metadata": {
      "needs_background": "light"
     },
     "output_type": "display_data"
    }
   ],
   "source": [
    "# визуализируем данные столбцов 'MATDATE', 'profit'\n",
    "\n",
    "plt.figure(figsize=(10, 5))\n",
    "plt.subplot()\n",
    "plt.scatter(x=rub_bonds['MATDATE'], y=rub_bonds['profit'])\n",
    "plt.yscale(value='log')\n",
    "plt.title('Распределение купонной доходности в зависимости от даты гашения облигации')\n",
    "plt.xlabel('Дата гашения', fontsize=12)\n",
    "plt.ylabel('Купонная доходность', fontsize=12)\n",
    "plt.show()\n",
    "\n",
    "# Из визуализации можно предположить, что оптимальное количество кластеров должно быть 3-4."
   ]
  },
  {
   "cell_type": "code",
   "execution_count": 24,
   "id": "1275ad7d",
   "metadata": {},
   "outputs": [],
   "source": [
    "# Создадим упрощенный датафрейм для расчета кол-ва кластеров, удалим столбцы с типам datetime, object, с NaN-значениями\n",
    "\n",
    "rub_bonds_df_short = rub_bonds.drop(columns=['DAYSTOREDEMPTION', 'COUPONFREQUENCY', 'SECID', 'SHORTNAME', 'NAME', 'FACEUNIT', 'EMITENTNAME', 'MATDATE', 'COUPONDATE', 'ISSUEDATE', 'current_date'], axis=1) "
   ]
  },
  {
   "cell_type": "code",
   "execution_count": 25,
   "id": "f101fb98",
   "metadata": {},
   "outputs": [
    {
     "data": {
      "text/plain": [
       "FACEVALUE                 0\n",
       "ISSUESIZE                 0\n",
       "IS_QUALIFIED_INVESTORS    0\n",
       "HIGH_RISK                 0\n",
       "COUPONPERCENT             0\n",
       "COUPONVALUE               0\n",
       "COUPONDAYSPASSED          0\n",
       "COUPONDAYSREMAIN          0\n",
       "COUPONLENGTH              0\n",
       "INN                       0\n",
       "PRICE                     0\n",
       "PRICE_RUB                 0\n",
       "NKD_RUB                   0\n",
       "profit                    0\n",
       "dtype: int64"
      ]
     },
     "execution_count": 25,
     "metadata": {},
     "output_type": "execute_result"
    }
   ],
   "source": [
    "rub_bonds_df_short.isna().sum()"
   ]
  },
  {
   "cell_type": "code",
   "execution_count": 26,
   "id": "c95ba152",
   "metadata": {},
   "outputs": [],
   "source": [
    "# Повторяем алгоритм k-средних со значениями от k=2 до k=12 и вычисляем инерцию для каждого значения k в заданном диапазоне\n",
    "\n",
    "inertias = []\n",
    "K = range(2, 15)\n",
    "\n",
    "for k in K:\n",
    "    kmeans = KMeans(n_clusters=k, random_state=123)\n",
    "    kmeans.fit(rub_bonds_df_short)\n",
    "    inertias.append(kmeans.inertia_)"
   ]
  },
  {
   "cell_type": "code",
   "execution_count": 27,
   "id": "8d74df82",
   "metadata": {},
   "outputs": [
    {
     "data": {
      "text/plain": [
       "[1.458019831999005e+21,\n",
       " 5.664136291380316e+20,\n",
       " 2.979141480859935e+20,\n",
       " 1.911880001585721e+20,\n",
       " 1.1634612180098141e+20,\n",
       " 6.5167189094534545e+19,\n",
       " 4.537217419594863e+19,\n",
       " 3.275746687518704e+19,\n",
       " 2.7648722662134735e+19,\n",
       " 2.2805924549115486e+19,\n",
       " 1.8086061475474119e+19,\n",
       " 1.5178475018281353e+19,\n",
       " 1.341554653260417e+19]"
      ]
     },
     "execution_count": 27,
     "metadata": {},
     "output_type": "execute_result"
    }
   ],
   "source": [
    "inertias"
   ]
  },
  {
   "cell_type": "code",
   "execution_count": 28,
   "id": "8a7e3c03",
   "metadata": {},
   "outputs": [
    {
     "data": {
      "image/png": "[encoded data removed]",
      "text/plain": [
       "<Figure size 720x432 with 1 Axes>"
      ]
     },
     "metadata": {
      "needs_background": "light"
     },
     "output_type": "display_data"
    }
   ],
   "source": [
    "# Визуализация результатов\n",
    "\n",
    "plt.figure(figsize =(10, 6))\n",
    "plt.plot(K, inertias, 'bx-')\n",
    "plt.xlabel('Число кластеров', fontsize=12)\n",
    "plt.ylabel('Inertia', fontsize=12)\n",
    "plt.title('Метод локтя с использованием инерции', fontsize=12)\n",
    "plt.show()\n",
    "\n",
    "# Чтобы определить оптимальное количество кластеров, мы должны выбрать значение k в «изгибе», то есть в точке, \n",
    "# после которой инерция начинает линейно уменьшаться. Таким образом, для заданных данных можно сделать вывод, \n",
    "# что оптимальное количество кластеров для данных - 3-4 ."
   ]
  },
  {
   "cell_type": "markdown",
   "id": "341a4cb8",
   "metadata": {},
   "source": [
    "## Silhouette Coefficient"
   ]
  },
  {
   "cell_type": "code",
   "execution_count": 29,
   "id": "78b39222",
   "metadata": {},
   "outputs": [],
   "source": [
    "scores = []\n",
    "clusters = range(2, 15)\n",
    "for i in clusters:\n",
    "    labels = KMeans(n_clusters=i, random_state=123).fit(rub_bonds_df_short).labels_\n",
    "    scores.append(metrics.silhouette_score(rub_bonds_df_short, labels, random_state=123))"
   ]
  },
  {
   "cell_type": "code",
   "execution_count": 30,
   "id": "43aab006",
   "metadata": {},
   "outputs": [
    {
     "data": {
      "text/html": [
       "<div>\n",
       "<style scoped>\n",
       "    .dataframe tbody tr th:only-of-type {\n",
       "        vertical-align: middle;\n",
       "    }\n",
       "\n",
       "    .dataframe tbody tr th {\n",
       "        vertical-align: top;\n",
       "    }\n",
       "\n",
       "    .dataframe thead th {\n",
       "        text-align: right;\n",
       "    }\n",
       "</style>\n",
       "<table border=\"1\" class=\"dataframe\">\n",
       "  <thead>\n",
       "    <tr style=\"text-align: right;\">\n",
       "      <th></th>\n",
       "      <th>кластеры</th>\n",
       "      <th>рейтинг</th>\n",
       "    </tr>\n",
       "  </thead>\n",
       "  <tbody>\n",
       "    <tr>\n",
       "      <th>0</th>\n",
       "      <td>2</td>\n",
       "      <td>0.843751</td>\n",
       "    </tr>\n",
       "    <tr>\n",
       "      <th>1</th>\n",
       "      <td>3</td>\n",
       "      <td>0.857584</td>\n",
       "    </tr>\n",
       "    <tr>\n",
       "      <th>2</th>\n",
       "      <td>4</td>\n",
       "      <td>0.884971</td>\n",
       "    </tr>\n",
       "    <tr>\n",
       "      <th>3</th>\n",
       "      <td>5</td>\n",
       "      <td>0.877007</td>\n",
       "    </tr>\n",
       "    <tr>\n",
       "      <th>4</th>\n",
       "      <td>6</td>\n",
       "      <td>0.881668</td>\n",
       "    </tr>\n",
       "    <tr>\n",
       "      <th>5</th>\n",
       "      <td>7</td>\n",
       "      <td>0.889695</td>\n",
       "    </tr>\n",
       "    <tr>\n",
       "      <th>6</th>\n",
       "      <td>8</td>\n",
       "      <td>0.894954</td>\n",
       "    </tr>\n",
       "    <tr>\n",
       "      <th>7</th>\n",
       "      <td>9</td>\n",
       "      <td>0.896068</td>\n",
       "    </tr>\n",
       "    <tr>\n",
       "      <th>8</th>\n",
       "      <td>10</td>\n",
       "      <td>0.891381</td>\n",
       "    </tr>\n",
       "    <tr>\n",
       "      <th>9</th>\n",
       "      <td>11</td>\n",
       "      <td>0.889639</td>\n",
       "    </tr>\n",
       "    <tr>\n",
       "      <th>10</th>\n",
       "      <td>12</td>\n",
       "      <td>0.892937</td>\n",
       "    </tr>\n",
       "    <tr>\n",
       "      <th>11</th>\n",
       "      <td>13</td>\n",
       "      <td>0.884189</td>\n",
       "    </tr>\n",
       "    <tr>\n",
       "      <th>12</th>\n",
       "      <td>14</td>\n",
       "      <td>0.865055</td>\n",
       "    </tr>\n",
       "  </tbody>\n",
       "</table>\n",
       "</div>"
      ],
      "text/plain": [
       "    кластеры   рейтинг\n",
       "0          2  0.843751\n",
       "1          3  0.857584\n",
       "2          4  0.884971\n",
       "3          5  0.877007\n",
       "4          6  0.881668\n",
       "5          7  0.889695\n",
       "6          8  0.894954\n",
       "7          9  0.896068\n",
       "8         10  0.891381\n",
       "9         11  0.889639\n",
       "10        12  0.892937\n",
       "11        13  0.884189\n",
       "12        14  0.865055"
      ]
     },
     "execution_count": 30,
     "metadata": {},
     "output_type": "execute_result"
    }
   ],
   "source": [
    "sil_scores = pd.DataFrame({'кластеры': clusters, 'рейтинг': scores})\n",
    "sil_scores"
   ]
  },
  {
   "cell_type": "code",
   "execution_count": 31,
   "id": "b1caf8a8",
   "metadata": {},
   "outputs": [
    {
     "data": {
      "text/plain": [
       "Text(0.5, 1.0, 'Коэффициент силуэта')"
      ]
     },
     "execution_count": 31,
     "metadata": {},
     "output_type": "execute_result"
    },
    {
     "data": {
      "image/png": "[encoded data removed]",
      "text/plain": [
       "<Figure size 720x360 with 1 Axes>"
      ]
     },
     "metadata": {
      "needs_background": "light"
     },
     "output_type": "display_data"
    }
   ],
   "source": [
    "# Визуализация результатов\n",
    "\n",
    "plt.figure(figsize=(10, 5))\n",
    "sns.scatterplot(x='кластеры', y='рейтинг', data=sil_scores)\n",
    "plt.title('Коэффициент силуэта', fontsize=14)\n",
    "\n",
    "# График силуэта демонстрирует пик в точке 4, а также значения близки к единице в точках 8, 9 кластерных центров."
   ]
  },
  {
   "cell_type": "markdown",
   "id": "0efb610c",
   "metadata": {},
   "source": [
    "## PCA"
   ]
  },
  {
   "cell_type": "code",
   "execution_count": 32,
   "id": "bb470ebc",
   "metadata": {},
   "outputs": [],
   "source": [
    "# воспользуемся PCA для проецирования в двухмерное пространство и отображения данных и кластеров в этом новом пространстве\n",
    "\n",
    "pca = PCA(2)"
   ]
  },
  {
   "cell_type": "code",
   "execution_count": 33,
   "id": "21adf2b5",
   "metadata": {},
   "outputs": [],
   "source": [
    "df_pca = pca.fit_transform(rub_bonds_df_short)"
   ]
  },
  {
   "cell_type": "code",
   "execution_count": 34,
   "id": "6d3f72db",
   "metadata": {},
   "outputs": [],
   "source": [
    "df_pca = pd.DataFrame(df_pca)"
   ]
  },
  {
   "cell_type": "code",
   "execution_count": 35,
   "id": "cd655815",
   "metadata": {},
   "outputs": [],
   "source": [
    "df_pca.columns = ['x1', 'x2']"
   ]
  },
  {
   "cell_type": "code",
   "execution_count": 36,
   "id": "c3c6ed67",
   "metadata": {},
   "outputs": [
    {
     "data": {
      "text/plain": [
       "Text(0.5, 1.0, 'Датафрейм с рублевыми облигациями в двухмерном пространстве')"
      ]
     },
     "execution_count": 36,
     "metadata": {},
     "output_type": "execute_result"
    },
    {
     "data": {
      "image/png": "[encoded data removed]",
      "text/plain": [
       "<Figure size 720x360 with 1 Axes>"
      ]
     },
     "metadata": {
      "needs_background": "light"
     },
     "output_type": "display_data"
    }
   ],
   "source": [
    "# отобразим на графике датафрейм, трансформированный в двухмерное пространство\n",
    "\n",
    "plt.figure(figsize=(10, 5))\n",
    "plt.scatter(df_pca.x1, df_pca.x2)\n",
    "plt.yscale(value='log')\n",
    "plt.title('Датафрейм с рублевыми облигациями в двухмерном пространстве', fontsize=14)"
   ]
  },
  {
   "cell_type": "markdown",
   "id": "f5de9762",
   "metadata": {},
   "source": [
    "## Применение кластеризации KMeans"
   ]
  },
  {
   "cell_type": "code",
   "execution_count": null,
   "id": "a2bab011",
   "metadata": {},
   "outputs": [],
   "source": [
    "# разобъем датафрейм на 3, 4 и 9 кластеров"
   ]
  },
  {
   "cell_type": "code",
   "execution_count": 37,
   "id": "88016c28",
   "metadata": {},
   "outputs": [
    {
     "name": "stdout",
     "output_type": "stream",
     "text": [
      "Silhouette Score(n=3): 0.8576473557009359\n"
     ]
    }
   ],
   "source": [
    "kmeans = KMeans(n_clusters=3, random_state=123)\n",
    "predict = kmeans.fit_predict(df_pca)\n",
    "print(f'Silhouette Score(n=3): {metrics.silhouette_score(df_pca, predict)}') # считаем Silhouette Score"
   ]
  },
  {
   "cell_type": "code",
   "execution_count": 38,
   "id": "eb704eb9",
   "metadata": {},
   "outputs": [
    {
     "name": "stderr",
     "output_type": "stream",
     "text": [
      "C:\\Users\\anna_\\anaconda3\\lib\\site-packages\\seaborn\\_decorators.py:36: FutureWarning: Pass the following variables as keyword args: x, y. From version 0.12, the only valid positional argument will be `data`, and passing other arguments without an explicit keyword will result in an error or misinterpretation.\n",
      "  warnings.warn(\n"
     ]
    },
    {
     "data": {
      "text/plain": [
       "Text(0.5, 1.0, 'Данные, разбитые на 3 кластера')"
      ]
     },
     "execution_count": 38,
     "metadata": {},
     "output_type": "execute_result"
    },
    {
     "data": {
      "image/png": "[encoded data removed]",
      "text/plain": [
       "<Figure size 1008x504 with 1 Axes>"
      ]
     },
     "metadata": {
      "needs_background": "light"
     },
     "output_type": "display_data"
    }
   ],
   "source": [
    "# Кластерные точки данных для значений k=3\n",
    "\n",
    "plt.figure(figsize=(14, 7))\n",
    "three_clusters = sns.scatterplot(df_pca['x1'], df_pca['x2'], hue=predict, palette='Set1')\n",
    "three_clusters.set_yscale('log')\n",
    "plt.title('Данные, разбитые на 3 кластера', fontsize=14)"
   ]
  },
  {
   "cell_type": "code",
   "execution_count": 39,
   "id": "fad99707",
   "metadata": {},
   "outputs": [
    {
     "name": "stdout",
     "output_type": "stream",
     "text": [
      "Silhouette Score(n=4): 0.8850538419760747\n"
     ]
    }
   ],
   "source": [
    "kmeans = KMeans(n_clusters=4, random_state=123)\n",
    "predict = kmeans.fit_predict(df_pca)\n",
    "print(f'Silhouette Score(n=4): {metrics.silhouette_score(df_pca, predict)}') # считаем Silhouette Score"
   ]
  },
  {
   "cell_type": "code",
   "execution_count": 40,
   "id": "e77ad579",
   "metadata": {},
   "outputs": [
    {
     "name": "stderr",
     "output_type": "stream",
     "text": [
      "C:\\Users\\anna_\\anaconda3\\lib\\site-packages\\seaborn\\_decorators.py:36: FutureWarning: Pass the following variables as keyword args: x, y. From version 0.12, the only valid positional argument will be `data`, and passing other arguments without an explicit keyword will result in an error or misinterpretation.\n",
      "  warnings.warn(\n"
     ]
    },
    {
     "data": {
      "text/plain": [
       "Text(0.5, 1.0, 'Данные, разбитые на 4 кластера')"
      ]
     },
     "execution_count": 40,
     "metadata": {},
     "output_type": "execute_result"
    },
    {
     "data": {
      "image/png": "[encoded data removed]",
      "text/plain": [
       "<Figure size 1008x504 with 1 Axes>"
      ]
     },
     "metadata": {
      "needs_background": "light"
     },
     "output_type": "display_data"
    }
   ],
   "source": [
    "# Кластерные точки данных для значений k=4\n",
    "\n",
    "plt.figure(figsize=(14, 7))\n",
    "four_clusters = sns.scatterplot(df_pca['x1'], df_pca['x2'], hue=predict, palette='Set1')\n",
    "four_clusters.set_yscale('log')\n",
    "plt.title('Данные, разбитые на 4 кластера', fontsize=14)"
   ]
  },
  {
   "cell_type": "code",
   "execution_count": 41,
   "id": "2f62304a",
   "metadata": {},
   "outputs": [
    {
     "name": "stdout",
     "output_type": "stream",
     "text": [
      "Silhouette Score(n=9): 0.8962195472336199\n"
     ]
    }
   ],
   "source": [
    "kmeans = KMeans(n_clusters=9, random_state=123)\n",
    "predict = kmeans.fit_predict(df_pca)\n",
    "print(f'Silhouette Score(n=9): {metrics.silhouette_score(df_pca, predict)}') # считаем Silhouette Score"
   ]
  },
  {
   "cell_type": "code",
   "execution_count": 42,
   "id": "bb860e75",
   "metadata": {},
   "outputs": [
    {
     "name": "stderr",
     "output_type": "stream",
     "text": [
      "C:\\Users\\anna_\\anaconda3\\lib\\site-packages\\seaborn\\_decorators.py:36: FutureWarning: Pass the following variables as keyword args: x, y. From version 0.12, the only valid positional argument will be `data`, and passing other arguments without an explicit keyword will result in an error or misinterpretation.\n",
      "  warnings.warn(\n"
     ]
    },
    {
     "data": {
      "text/plain": [
       "<matplotlib.legend.Legend at 0x25fb0ffb940>"
      ]
     },
     "execution_count": 42,
     "metadata": {},
     "output_type": "execute_result"
    },
    {
     "data": {
      "image/png": "[encoded data removed]",
      "text/plain": [
       "<Figure size 1008x504 with 1 Axes>"
      ]
     },
     "metadata": {
      "needs_background": "light"
     },
     "output_type": "display_data"
    }
   ],
   "source": [
    "# Кластерные точки данных для значений k=9\n",
    "\n",
    "plt.figure(figsize=(14, 7))\n",
    "nine_clusters = sns.scatterplot(df_pca['x1'], df_pca['x2'], hue=predict, palette='Set1')\n",
    "nine_clusters.set_yscale('log')\n",
    "plt.title('Данные, разбитые на 9 кластеров', fontsize=14)\n",
    "plt.legend(bbox_to_anchor=(1, 1))"
   ]
  },
  {
   "cell_type": "code",
   "execution_count": null,
   "id": "877126c8",
   "metadata": {},
   "outputs": [],
   "source": [
    "# Итак, можно сказать, что оптимальным количеством кластеров будет 9, так как силуэт оценка при k=9 равна 0.896, что выше, \n",
    "# чем оценка при k=3 или k=4."
   ]
  },
  {
   "cell_type": "markdown",
   "id": "81affa01",
   "metadata": {},
   "source": [
    "##### 2. По низкорисковым рублевым облигациям с датой промежуточной выплаты по купонам не более 20% купонного периода назад до текущей даты и облигациям, выпущенных в аналогичный период, рассчитать доходность последующих купонов по отобранным облигациям с учетом разницы номинала и цены продажи, а также с учетом налоговых отчислений на период год с текущей даты. (график и/или таблица). "
   ]
  },
  {
   "cell_type": "code",
   "execution_count": 43,
   "id": "4b96b1bf",
   "metadata": {},
   "outputs": [],
   "source": [
    "# Отбираем низкорисковые рублевые облигации с датой промежуточной выплаты по купонам не более 20% \n",
    "\n",
    "rub_bonds['NKD_period_less_20'] = (rub_bonds['COUPONDAYSPASSED'] / rub_bonds['COUPONLENGTH']).round(2)\n",
    "low_risk_bonds = rub_bonds.query('HIGH_RISK == 0 & NKD_period_less_20 <= 0.2')"
   ]
  },
  {
   "cell_type": "code",
   "execution_count": 44,
   "id": "fffb54c1",
   "metadata": {},
   "outputs": [
    {
     "name": "stderr",
     "output_type": "stream",
     "text": [
      "C:\\Users\\anna_\\AppData\\Local\\Temp/ipykernel_772/167421286.py:4: SettingWithCopyWarning: \n",
      "A value is trying to be set on a copy of a slice from a DataFrame.\n",
      "Try using .loc[row_indexer,col_indexer] = value instead\n",
      "\n",
      "See the caveats in the documentation: https://pandas.pydata.org/pandas-docs/stable/user_guide/indexing.html#returning-a-view-versus-a-copy\n",
      "  low_risk_bonds['NKD_period_coupon'] = low_risk_bonds['NKD_period_less_20'] * low_risk_bonds['COUPONPERCENT'] / low_risk_bonds['COUPONFREQUENCY']\n"
     ]
    }
   ],
   "source": [
    "# умножаем период расчета <= 0.2 на ставку купона, поделенную на число купонов в год. Тем самым получим ставку купона, \n",
    "# заработанную за период расчета не более 20%\n",
    "\n",
    "low_risk_bonds['NKD_period_coupon'] = low_risk_bonds['NKD_period_less_20'] * low_risk_bonds['COUPONPERCENT'] / low_risk_bonds['COUPONFREQUENCY']"
   ]
  },
  {
   "cell_type": "code",
   "execution_count": 45,
   "id": "2de1e1c9",
   "metadata": {},
   "outputs": [
    {
     "name": "stderr",
     "output_type": "stream",
     "text": [
      "C:\\Users\\anna_\\AppData\\Local\\Temp/ipykernel_772/3642636183.py:3: SettingWithCopyWarning: \n",
      "A value is trying to be set on a copy of a slice from a DataFrame.\n",
      "Try using .loc[row_indexer,col_indexer] = value instead\n",
      "\n",
      "See the caveats in the documentation: https://pandas.pydata.org/pandas-docs/stable/user_guide/indexing.html#returning-a-view-versus-a-copy\n",
      "  low_risk_bonds['NKD_period_less_20_RUB'] = (low_risk_bonds['NKD_period_coupon'] / 100 * low_risk_bonds['FACEVALUE']).round(2)\n"
     ]
    }
   ],
   "source": [
    "# Для расчета НКД в рублях умножаем на номинальную стоимость облигации и делим на 100%.\n",
    "\n",
    "low_risk_bonds['NKD_period_less_20_RUB'] = (low_risk_bonds['NKD_period_coupon'] / 100 * low_risk_bonds['FACEVALUE']).round(2)"
   ]
  },
  {
   "cell_type": "code",
   "execution_count": 46,
   "id": "29740f76",
   "metadata": {},
   "outputs": [],
   "source": [
    "# цена покупки\n",
    "price = low_risk_bonds['PRICE'] * low_risk_bonds['FACEVALUE'] / 100\n",
    "\n",
    "# купонный доход, руб.\n",
    "KD = low_risk_bonds['FACEVALUE'] * low_risk_bonds['COUPONPERCENT'] / 100"
   ]
  },
  {
   "cell_type": "code",
   "execution_count": 47,
   "id": "340ed493",
   "metadata": {},
   "outputs": [
    {
     "name": "stderr",
     "output_type": "stream",
     "text": [
      "C:\\Users\\anna_\\AppData\\Local\\Temp/ipykernel_772/314770322.py:3: SettingWithCopyWarning: \n",
      "A value is trying to be set on a copy of a slice from a DataFrame.\n",
      "Try using .loc[row_indexer,col_indexer] = value instead\n",
      "\n",
      "See the caveats in the documentation: https://pandas.pydata.org/pandas-docs/stable/user_guide/indexing.html#returning-a-view-versus-a-copy\n",
      "  low_risk_bonds['NKD_period_less_20_profit'] = ((low_risk_bonds['FACEVALUE'] - price).apply(lambda x: x if x <= 0 else x * NDFL) - low_risk_bonds['NKD_period_less_20_RUB'] + NDFL * KD * years) * 100 / \\\n",
      "C:\\Users\\anna_\\AppData\\Local\\Temp/ipykernel_772/314770322.py:5: SettingWithCopyWarning: \n",
      "A value is trying to be set on a copy of a slice from a DataFrame.\n",
      "Try using .loc[row_indexer,col_indexer] = value instead\n",
      "\n",
      "See the caveats in the documentation: https://pandas.pydata.org/pandas-docs/stable/user_guide/indexing.html#returning-a-view-versus-a-copy\n",
      "  low_risk_bonds['NKD_period_less_20_profit'] = low_risk_bonds['NKD_period_less_20_profit'].round(2)\n"
     ]
    }
   ],
   "source": [
    "# Доходность низкоризковых рублевых облигаций за год, в %\n",
    "\n",
    "low_risk_bonds['NKD_period_less_20_profit'] = ((low_risk_bonds['FACEVALUE'] - price).apply(lambda x: x if x <= 0 else x * NDFL) - low_risk_bonds['NKD_period_less_20_RUB'] + NDFL * KD * years) * 100 / \\\n",
    "                                            ((price + low_risk_bonds['NKD_period_less_20_RUB']) * (1 + broker_commission + moex_commission))\n",
    "low_risk_bonds['NKD_period_less_20_profit'] = low_risk_bonds['NKD_period_less_20_profit'].round(2)"
   ]
  },
  {
   "cell_type": "code",
   "execution_count": 52,
   "id": "1bf5a870",
   "metadata": {},
   "outputs": [
    {
     "data": {
      "text/html": [
       "<div>\n",
       "<style scoped>\n",
       "    .dataframe tbody tr th:only-of-type {\n",
       "        vertical-align: middle;\n",
       "    }\n",
       "\n",
       "    .dataframe tbody tr th {\n",
       "        vertical-align: top;\n",
       "    }\n",
       "\n",
       "    .dataframe thead th {\n",
       "        text-align: right;\n",
       "    }\n",
       "</style>\n",
       "<table border=\"1\" class=\"dataframe\">\n",
       "  <thead>\n",
       "    <tr style=\"text-align: right;\">\n",
       "      <th></th>\n",
       "      <th>SECID</th>\n",
       "      <th>SHORTNAME</th>\n",
       "      <th>NAME</th>\n",
       "      <th>FACEVALUE</th>\n",
       "      <th>FACEUNIT</th>\n",
       "      <th>ISSUESIZE</th>\n",
       "      <th>MATDATE</th>\n",
       "      <th>IS_QUALIFIED_INVESTORS</th>\n",
       "      <th>HIGH_RISK</th>\n",
       "      <th>COUPONFREQUENCY</th>\n",
       "      <th>...</th>\n",
       "      <th>INN</th>\n",
       "      <th>PRICE</th>\n",
       "      <th>PRICE_RUB</th>\n",
       "      <th>current_date</th>\n",
       "      <th>NKD_RUB</th>\n",
       "      <th>profit</th>\n",
       "      <th>NKD_period_less_20</th>\n",
       "      <th>NKD_period_coupon</th>\n",
       "      <th>NKD_period_less_20_RUB</th>\n",
       "      <th>NKD_period_less_20_profit</th>\n",
       "    </tr>\n",
       "  </thead>\n",
       "  <tbody>\n",
       "    <tr>\n",
       "      <th>16</th>\n",
       "      <td>RU000A0JQAL8</td>\n",
       "      <td>ДОМ.РФ14об</td>\n",
       "      <td>ДОМ.РФ (АО) обл. сер. А14</td>\n",
       "      <td>1000</td>\n",
       "      <td>RUB</td>\n",
       "      <td>7000000</td>\n",
       "      <td>2023-05-15</td>\n",
       "      <td>0</td>\n",
       "      <td>0</td>\n",
       "      <td>2</td>\n",
       "      <td>...</td>\n",
       "      <td>7729355614</td>\n",
       "      <td>102.22</td>\n",
       "      <td>1028.98</td>\n",
       "      <td>2022-05-30</td>\n",
       "      <td>6.78</td>\n",
       "      <td>11.13</td>\n",
       "      <td>0.08</td>\n",
       "      <td>0.66</td>\n",
       "      <td>6.6</td>\n",
       "      <td>11.15</td>\n",
       "    </tr>\n",
       "    <tr>\n",
       "      <th>21</th>\n",
       "      <td>RU000A0JRJB8</td>\n",
       "      <td>ЗСД 01</td>\n",
       "      <td>Запад.скор.диаметр АО об.01</td>\n",
       "      <td>1000</td>\n",
       "      <td>RUB</td>\n",
       "      <td>5000000</td>\n",
       "      <td>2031-05-13</td>\n",
       "      <td>0</td>\n",
       "      <td>0</td>\n",
       "      <td>2</td>\n",
       "      <td>...</td>\n",
       "      <td>7825392577</td>\n",
       "      <td>131.95</td>\n",
       "      <td>1321.22</td>\n",
       "      <td>2022-05-30</td>\n",
       "      <td>1.72</td>\n",
       "      <td>-17.43</td>\n",
       "      <td>0.03</td>\n",
       "      <td>0.1566</td>\n",
       "      <td>1.57</td>\n",
       "      <td>-17.42</td>\n",
       "    </tr>\n",
       "    <tr>\n",
       "      <th>22</th>\n",
       "      <td>RU000A0JRJL7</td>\n",
       "      <td>ЗСД 02</td>\n",
       "      <td>Запад.скор.диаметр АО об.02</td>\n",
       "      <td>1000</td>\n",
       "      <td>RUB</td>\n",
       "      <td>5000000</td>\n",
       "      <td>2031-05-13</td>\n",
       "      <td>0</td>\n",
       "      <td>0</td>\n",
       "      <td>2</td>\n",
       "      <td>...</td>\n",
       "      <td>7825392577</td>\n",
       "      <td>99.81</td>\n",
       "      <td>999.82</td>\n",
       "      <td>2022-05-30</td>\n",
       "      <td>1.72</td>\n",
       "      <td>9.07</td>\n",
       "      <td>0.03</td>\n",
       "      <td>0.1566</td>\n",
       "      <td>1.57</td>\n",
       "      <td>9.09</td>\n",
       "    </tr>\n",
       "    <tr>\n",
       "      <th>65</th>\n",
       "      <td>RU000A0JTY57</td>\n",
       "      <td>РЖД БО-18</td>\n",
       "      <td>\"Российские ЖД\" ОАО БО-18</td>\n",
       "      <td>1000</td>\n",
       "      <td>RUB</td>\n",
       "      <td>25000000</td>\n",
       "      <td>2043-04-29</td>\n",
       "      <td>0</td>\n",
       "      <td>0</td>\n",
       "      <td>2</td>\n",
       "      <td>...</td>\n",
       "      <td>7708503727</td>\n",
       "      <td>67.74</td>\n",
       "      <td>679.82</td>\n",
       "      <td>2022-05-30</td>\n",
       "      <td>2.42</td>\n",
       "      <td>63.52</td>\n",
       "      <td>0.03</td>\n",
       "      <td>0.26535</td>\n",
       "      <td>2.65</td>\n",
       "      <td>63.47</td>\n",
       "    </tr>\n",
       "    <tr>\n",
       "      <th>66</th>\n",
       "      <td>RU000A0JTYJ6</td>\n",
       "      <td>ФСК ЕЭС-23</td>\n",
       "      <td>\"ФСК ЕЭС\"(ПАО)-обл. сер.23</td>\n",
       "      <td>1000</td>\n",
       "      <td>RUB</td>\n",
       "      <td>10000000</td>\n",
       "      <td>2048-04-27</td>\n",
       "      <td>0</td>\n",
       "      <td>0</td>\n",
       "      <td>4</td>\n",
       "      <td>...</td>\n",
       "      <td>4716016979</td>\n",
       "      <td>66.64</td>\n",
       "      <td>666.40</td>\n",
       "      <td>2022-05-30</td>\n",
       "      <td>0.00</td>\n",
       "      <td>68.09</td>\n",
       "      <td>0.00</td>\n",
       "      <td>0.0</td>\n",
       "      <td>0.0</td>\n",
       "      <td>68.09</td>\n",
       "    </tr>\n",
       "  </tbody>\n",
       "</table>\n",
       "<p>5 rows × 29 columns</p>\n",
       "</div>"
      ],
      "text/plain": [
       "           SECID   SHORTNAME                         NAME  FACEVALUE FACEUNIT  \\\n",
       "16  RU000A0JQAL8  ДОМ.РФ14об    ДОМ.РФ (АО) обл. сер. А14       1000      RUB   \n",
       "21  RU000A0JRJB8      ЗСД 01  Запад.скор.диаметр АО об.01       1000      RUB   \n",
       "22  RU000A0JRJL7      ЗСД 02  Запад.скор.диаметр АО об.02       1000      RUB   \n",
       "65  RU000A0JTY57   РЖД БО-18    \"Российские ЖД\" ОАО БО-18       1000      RUB   \n",
       "66  RU000A0JTYJ6  ФСК ЕЭС-23   \"ФСК ЕЭС\"(ПАО)-обл. сер.23       1000      RUB   \n",
       "\n",
       "    ISSUESIZE    MATDATE  IS_QUALIFIED_INVESTORS  HIGH_RISK  COUPONFREQUENCY  \\\n",
       "16    7000000 2023-05-15                       0          0                2   \n",
       "21    5000000 2031-05-13                       0          0                2   \n",
       "22    5000000 2031-05-13                       0          0                2   \n",
       "65   25000000 2043-04-29                       0          0                2   \n",
       "66   10000000 2048-04-27                       0          0                4   \n",
       "\n",
       "    ...         INN   PRICE  PRICE_RUB  current_date  NKD_RUB  profit  \\\n",
       "16  ...  7729355614  102.22    1028.98    2022-05-30     6.78   11.13   \n",
       "21  ...  7825392577  131.95    1321.22    2022-05-30     1.72  -17.43   \n",
       "22  ...  7825392577   99.81     999.82    2022-05-30     1.72    9.07   \n",
       "65  ...  7708503727   67.74     679.82    2022-05-30     2.42   63.52   \n",
       "66  ...  4716016979   66.64     666.40    2022-05-30     0.00   68.09   \n",
       "\n",
       "   NKD_period_less_20  NKD_period_coupon NKD_period_less_20_RUB  \\\n",
       "16               0.08               0.66                    6.6   \n",
       "21               0.03             0.1566                   1.57   \n",
       "22               0.03             0.1566                   1.57   \n",
       "65               0.03            0.26535                   2.65   \n",
       "66               0.00                0.0                    0.0   \n",
       "\n",
       "   NKD_period_less_20_profit  \n",
       "16                     11.15  \n",
       "21                    -17.42  \n",
       "22                      9.09  \n",
       "65                     63.47  \n",
       "66                     68.09  \n",
       "\n",
       "[5 rows x 29 columns]"
      ]
     },
     "execution_count": 52,
     "metadata": {},
     "output_type": "execute_result"
    }
   ],
   "source": [
    "low_risk_bonds.head()"
   ]
  },
  {
   "cell_type": "code",
   "execution_count": 49,
   "id": "926d5a42",
   "metadata": {},
   "outputs": [
    {
     "data": {
      "text/plain": [
       "SECID                         0\n",
       "SHORTNAME                     0\n",
       "NAME                          0\n",
       "FACEVALUE                     0\n",
       "FACEUNIT                      0\n",
       "ISSUESIZE                     0\n",
       "MATDATE                       7\n",
       "IS_QUALIFIED_INVESTORS        0\n",
       "HIGH_RISK                     0\n",
       "COUPONFREQUENCY              61\n",
       "COUPONDATE                    0\n",
       "COUPONPERCENT                 0\n",
       "COUPONVALUE                   0\n",
       "COUPONDAYSPASSED              0\n",
       "COUPONDAYSREMAIN              0\n",
       "COUPONLENGTH                  0\n",
       "ISSUEDATE                     0\n",
       "DAYSTOREDEMPTION              7\n",
       "EMITENTNAME                   0\n",
       "INN                           0\n",
       "PRICE                         0\n",
       "PRICE_RUB                     0\n",
       "current_date                  0\n",
       "NKD_RUB                       0\n",
       "profit                        0\n",
       "NKD_period_less_20            0\n",
       "NKD_period_coupon            61\n",
       "NKD_period_less_20_RUB       61\n",
       "NKD_period_less_20_profit    61\n",
       "dtype: int64"
      ]
     },
     "execution_count": 49,
     "metadata": {},
     "output_type": "execute_result"
    }
   ],
   "source": [
    "low_risk_bonds.isna().sum()"
   ]
  },
  {
   "cell_type": "code",
   "execution_count": 50,
   "id": "7afe6baf",
   "metadata": {},
   "outputs": [
    {
     "ename": "TypeError",
     "evalue": "float() argument must be a string or a number, not 'NAType'",
     "output_type": "error",
     "traceback": [
      "\u001b[1;31m---------------------------------------------------------------------------\u001b[0m",
      "\u001b[1;31mTypeError\u001b[0m                                 Traceback (most recent call last)",
      "\u001b[1;32m~\\AppData\\Local\\Temp/ipykernel_772/1977529583.py\u001b[0m in \u001b[0;36m<module>\u001b[1;34m\u001b[0m\n\u001b[0;32m      1\u001b[0m \u001b[0mplt\u001b[0m\u001b[1;33m.\u001b[0m\u001b[0mfigure\u001b[0m\u001b[1;33m(\u001b[0m\u001b[0mfigsize\u001b[0m\u001b[1;33m=\u001b[0m\u001b[1;33m(\u001b[0m\u001b[1;36m10\u001b[0m\u001b[1;33m,\u001b[0m \u001b[1;36m5\u001b[0m\u001b[1;33m)\u001b[0m\u001b[1;33m)\u001b[0m\u001b[1;33m\u001b[0m\u001b[1;33m\u001b[0m\u001b[0m\n\u001b[0;32m      2\u001b[0m \u001b[0mplt\u001b[0m\u001b[1;33m.\u001b[0m\u001b[0msubplot\u001b[0m\u001b[1;33m(\u001b[0m\u001b[1;33m)\u001b[0m\u001b[1;33m\u001b[0m\u001b[1;33m\u001b[0m\u001b[0m\n\u001b[1;32m----> 3\u001b[1;33m \u001b[0mplt\u001b[0m\u001b[1;33m.\u001b[0m\u001b[0mscatter\u001b[0m\u001b[1;33m(\u001b[0m\u001b[0mx\u001b[0m\u001b[1;33m=\u001b[0m\u001b[0mlow_risk_bonds\u001b[0m\u001b[1;33m[\u001b[0m\u001b[1;34m'MATDATE'\u001b[0m\u001b[1;33m]\u001b[0m\u001b[1;33m,\u001b[0m \u001b[0my\u001b[0m\u001b[1;33m=\u001b[0m\u001b[0mlow_risk_bonds\u001b[0m\u001b[1;33m[\u001b[0m\u001b[1;34m'NKD_period_less_20_profit'\u001b[0m\u001b[1;33m]\u001b[0m\u001b[1;33m)\u001b[0m\u001b[1;33m\u001b[0m\u001b[1;33m\u001b[0m\u001b[0m\n\u001b[0m\u001b[0;32m      4\u001b[0m \u001b[1;31m# plt.yscale(value='log')\u001b[0m\u001b[1;33m\u001b[0m\u001b[1;33m\u001b[0m\u001b[0m\n\u001b[0;32m      5\u001b[0m \u001b[0mplt\u001b[0m\u001b[1;33m.\u001b[0m\u001b[0mtitle\u001b[0m\u001b[1;33m(\u001b[0m\u001b[1;34m'Купонная доходность низкорисковых рублевых облигаций в зависимости от даты гашения'\u001b[0m\u001b[1;33m)\u001b[0m\u001b[1;33m\u001b[0m\u001b[1;33m\u001b[0m\u001b[0m\n",
      "\u001b[1;32m~\\anaconda3\\lib\\site-packages\\matplotlib\\pyplot.py\u001b[0m in \u001b[0;36mscatter\u001b[1;34m(x, y, s, c, marker, cmap, norm, vmin, vmax, alpha, linewidths, edgecolors, plotnonfinite, data, **kwargs)\u001b[0m\n\u001b[0;32m   3066\u001b[0m         \u001b[0mvmin\u001b[0m\u001b[1;33m=\u001b[0m\u001b[1;32mNone\u001b[0m\u001b[1;33m,\u001b[0m \u001b[0mvmax\u001b[0m\u001b[1;33m=\u001b[0m\u001b[1;32mNone\u001b[0m\u001b[1;33m,\u001b[0m \u001b[0malpha\u001b[0m\u001b[1;33m=\u001b[0m\u001b[1;32mNone\u001b[0m\u001b[1;33m,\u001b[0m \u001b[0mlinewidths\u001b[0m\u001b[1;33m=\u001b[0m\u001b[1;32mNone\u001b[0m\u001b[1;33m,\u001b[0m \u001b[1;33m*\u001b[0m\u001b[1;33m,\u001b[0m\u001b[1;33m\u001b[0m\u001b[1;33m\u001b[0m\u001b[0m\n\u001b[0;32m   3067\u001b[0m         edgecolors=None, plotnonfinite=False, data=None, **kwargs):\n\u001b[1;32m-> 3068\u001b[1;33m     __ret = gca().scatter(\n\u001b[0m\u001b[0;32m   3069\u001b[0m         \u001b[0mx\u001b[0m\u001b[1;33m,\u001b[0m \u001b[0my\u001b[0m\u001b[1;33m,\u001b[0m \u001b[0ms\u001b[0m\u001b[1;33m=\u001b[0m\u001b[0ms\u001b[0m\u001b[1;33m,\u001b[0m \u001b[0mc\u001b[0m\u001b[1;33m=\u001b[0m\u001b[0mc\u001b[0m\u001b[1;33m,\u001b[0m \u001b[0mmarker\u001b[0m\u001b[1;33m=\u001b[0m\u001b[0mmarker\u001b[0m\u001b[1;33m,\u001b[0m \u001b[0mcmap\u001b[0m\u001b[1;33m=\u001b[0m\u001b[0mcmap\u001b[0m\u001b[1;33m,\u001b[0m \u001b[0mnorm\u001b[0m\u001b[1;33m=\u001b[0m\u001b[0mnorm\u001b[0m\u001b[1;33m,\u001b[0m\u001b[1;33m\u001b[0m\u001b[1;33m\u001b[0m\u001b[0m\n\u001b[0;32m   3070\u001b[0m         \u001b[0mvmin\u001b[0m\u001b[1;33m=\u001b[0m\u001b[0mvmin\u001b[0m\u001b[1;33m,\u001b[0m \u001b[0mvmax\u001b[0m\u001b[1;33m=\u001b[0m\u001b[0mvmax\u001b[0m\u001b[1;33m,\u001b[0m \u001b[0malpha\u001b[0m\u001b[1;33m=\u001b[0m\u001b[0malpha\u001b[0m\u001b[1;33m,\u001b[0m \u001b[0mlinewidths\u001b[0m\u001b[1;33m=\u001b[0m\u001b[0mlinewidths\u001b[0m\u001b[1;33m,\u001b[0m\u001b[1;33m\u001b[0m\u001b[1;33m\u001b[0m\u001b[0m\n",
      "\u001b[1;32m~\\anaconda3\\lib\\site-packages\\matplotlib\\__init__.py\u001b[0m in \u001b[0;36minner\u001b[1;34m(ax, data, *args, **kwargs)\u001b[0m\n\u001b[0;32m   1359\u001b[0m     \u001b[1;32mdef\u001b[0m \u001b[0minner\u001b[0m\u001b[1;33m(\u001b[0m\u001b[0max\u001b[0m\u001b[1;33m,\u001b[0m \u001b[1;33m*\u001b[0m\u001b[0margs\u001b[0m\u001b[1;33m,\u001b[0m \u001b[0mdata\u001b[0m\u001b[1;33m=\u001b[0m\u001b[1;32mNone\u001b[0m\u001b[1;33m,\u001b[0m \u001b[1;33m**\u001b[0m\u001b[0mkwargs\u001b[0m\u001b[1;33m)\u001b[0m\u001b[1;33m:\u001b[0m\u001b[1;33m\u001b[0m\u001b[1;33m\u001b[0m\u001b[0m\n\u001b[0;32m   1360\u001b[0m         \u001b[1;32mif\u001b[0m \u001b[0mdata\u001b[0m \u001b[1;32mis\u001b[0m \u001b[1;32mNone\u001b[0m\u001b[1;33m:\u001b[0m\u001b[1;33m\u001b[0m\u001b[1;33m\u001b[0m\u001b[0m\n\u001b[1;32m-> 1361\u001b[1;33m             \u001b[1;32mreturn\u001b[0m \u001b[0mfunc\u001b[0m\u001b[1;33m(\u001b[0m\u001b[0max\u001b[0m\u001b[1;33m,\u001b[0m \u001b[1;33m*\u001b[0m\u001b[0mmap\u001b[0m\u001b[1;33m(\u001b[0m\u001b[0msanitize_sequence\u001b[0m\u001b[1;33m,\u001b[0m \u001b[0margs\u001b[0m\u001b[1;33m)\u001b[0m\u001b[1;33m,\u001b[0m \u001b[1;33m**\u001b[0m\u001b[0mkwargs\u001b[0m\u001b[1;33m)\u001b[0m\u001b[1;33m\u001b[0m\u001b[1;33m\u001b[0m\u001b[0m\n\u001b[0m\u001b[0;32m   1362\u001b[0m \u001b[1;33m\u001b[0m\u001b[0m\n\u001b[0;32m   1363\u001b[0m         \u001b[0mbound\u001b[0m \u001b[1;33m=\u001b[0m \u001b[0mnew_sig\u001b[0m\u001b[1;33m.\u001b[0m\u001b[0mbind\u001b[0m\u001b[1;33m(\u001b[0m\u001b[0max\u001b[0m\u001b[1;33m,\u001b[0m \u001b[1;33m*\u001b[0m\u001b[0margs\u001b[0m\u001b[1;33m,\u001b[0m \u001b[1;33m**\u001b[0m\u001b[0mkwargs\u001b[0m\u001b[1;33m)\u001b[0m\u001b[1;33m\u001b[0m\u001b[1;33m\u001b[0m\u001b[0m\n",
      "\u001b[1;32m~\\anaconda3\\lib\\site-packages\\matplotlib\\axes\\_axes.py\u001b[0m in \u001b[0;36mscatter\u001b[1;34m(self, x, y, s, c, marker, cmap, norm, vmin, vmax, alpha, linewidths, edgecolors, plotnonfinite, **kwargs)\u001b[0m\n\u001b[0;32m   4585\u001b[0m         \u001b[0moffsets\u001b[0m \u001b[1;33m=\u001b[0m \u001b[0mnp\u001b[0m\u001b[1;33m.\u001b[0m\u001b[0mma\u001b[0m\u001b[1;33m.\u001b[0m\u001b[0mcolumn_stack\u001b[0m\u001b[1;33m(\u001b[0m\u001b[1;33m[\u001b[0m\u001b[0mx\u001b[0m\u001b[1;33m,\u001b[0m \u001b[0my\u001b[0m\u001b[1;33m]\u001b[0m\u001b[1;33m)\u001b[0m\u001b[1;33m\u001b[0m\u001b[1;33m\u001b[0m\u001b[0m\n\u001b[0;32m   4586\u001b[0m \u001b[1;33m\u001b[0m\u001b[0m\n\u001b[1;32m-> 4587\u001b[1;33m         collection = mcoll.PathCollection(\n\u001b[0m\u001b[0;32m   4588\u001b[0m                 \u001b[1;33m(\u001b[0m\u001b[0mpath\u001b[0m\u001b[1;33m,\u001b[0m\u001b[1;33m)\u001b[0m\u001b[1;33m,\u001b[0m \u001b[0mscales\u001b[0m\u001b[1;33m,\u001b[0m\u001b[1;33m\u001b[0m\u001b[1;33m\u001b[0m\u001b[0m\n\u001b[0;32m   4589\u001b[0m                 \u001b[0mfacecolors\u001b[0m\u001b[1;33m=\u001b[0m\u001b[0mcolors\u001b[0m\u001b[1;33m,\u001b[0m\u001b[1;33m\u001b[0m\u001b[1;33m\u001b[0m\u001b[0m\n",
      "\u001b[1;32m~\\anaconda3\\lib\\site-packages\\matplotlib\\collections.py\u001b[0m in \u001b[0;36m__init__\u001b[1;34m(self, paths, sizes, **kwargs)\u001b[0m\n\u001b[0;32m   1032\u001b[0m         \"\"\"\n\u001b[0;32m   1033\u001b[0m \u001b[1;33m\u001b[0m\u001b[0m\n\u001b[1;32m-> 1034\u001b[1;33m         \u001b[0msuper\u001b[0m\u001b[1;33m(\u001b[0m\u001b[1;33m)\u001b[0m\u001b[1;33m.\u001b[0m\u001b[0m__init__\u001b[0m\u001b[1;33m(\u001b[0m\u001b[1;33m**\u001b[0m\u001b[0mkwargs\u001b[0m\u001b[1;33m)\u001b[0m\u001b[1;33m\u001b[0m\u001b[1;33m\u001b[0m\u001b[0m\n\u001b[0m\u001b[0;32m   1035\u001b[0m         \u001b[0mself\u001b[0m\u001b[1;33m.\u001b[0m\u001b[0mset_paths\u001b[0m\u001b[1;33m(\u001b[0m\u001b[0mpaths\u001b[0m\u001b[1;33m)\u001b[0m\u001b[1;33m\u001b[0m\u001b[1;33m\u001b[0m\u001b[0m\n\u001b[0;32m   1036\u001b[0m         \u001b[0mself\u001b[0m\u001b[1;33m.\u001b[0m\u001b[0mset_sizes\u001b[0m\u001b[1;33m(\u001b[0m\u001b[0msizes\u001b[0m\u001b[1;33m)\u001b[0m\u001b[1;33m\u001b[0m\u001b[1;33m\u001b[0m\u001b[0m\n",
      "\u001b[1;32m~\\anaconda3\\lib\\site-packages\\matplotlib\\_api\\deprecation.py\u001b[0m in \u001b[0;36mwrapper\u001b[1;34m(*inner_args, **inner_kwargs)\u001b[0m\n\u001b[0;32m    429\u001b[0m                          \u001b[1;32melse\u001b[0m \u001b[0mdeprecation_addendum\u001b[0m\u001b[1;33m,\u001b[0m\u001b[1;33m\u001b[0m\u001b[1;33m\u001b[0m\u001b[0m\n\u001b[0;32m    430\u001b[0m                 **kwargs)\n\u001b[1;32m--> 431\u001b[1;33m         \u001b[1;32mreturn\u001b[0m \u001b[0mfunc\u001b[0m\u001b[1;33m(\u001b[0m\u001b[1;33m*\u001b[0m\u001b[0minner_args\u001b[0m\u001b[1;33m,\u001b[0m \u001b[1;33m**\u001b[0m\u001b[0minner_kwargs\u001b[0m\u001b[1;33m)\u001b[0m\u001b[1;33m\u001b[0m\u001b[1;33m\u001b[0m\u001b[0m\n\u001b[0m\u001b[0;32m    432\u001b[0m \u001b[1;33m\u001b[0m\u001b[0m\n\u001b[0;32m    433\u001b[0m     \u001b[1;32mreturn\u001b[0m \u001b[0mwrapper\u001b[0m\u001b[1;33m\u001b[0m\u001b[1;33m\u001b[0m\u001b[0m\n",
      "\u001b[1;32m~\\anaconda3\\lib\\site-packages\\matplotlib\\collections.py\u001b[0m in \u001b[0;36m__init__\u001b[1;34m(self, edgecolors, facecolors, linewidths, linestyles, capstyle, joinstyle, antialiaseds, offsets, transOffset, norm, cmap, pickradius, hatch, urls, offset_position, zorder, **kwargs)\u001b[0m\n\u001b[0;32m    204\u001b[0m         \u001b[0mself\u001b[0m\u001b[1;33m.\u001b[0m\u001b[0m_uniform_offsets\u001b[0m \u001b[1;33m=\u001b[0m \u001b[1;32mNone\u001b[0m\u001b[1;33m\u001b[0m\u001b[1;33m\u001b[0m\u001b[0m\n\u001b[0;32m    205\u001b[0m         \u001b[1;32mif\u001b[0m \u001b[0moffsets\u001b[0m \u001b[1;32mis\u001b[0m \u001b[1;32mnot\u001b[0m \u001b[1;32mNone\u001b[0m\u001b[1;33m:\u001b[0m\u001b[1;33m\u001b[0m\u001b[1;33m\u001b[0m\u001b[0m\n\u001b[1;32m--> 206\u001b[1;33m             \u001b[0moffsets\u001b[0m \u001b[1;33m=\u001b[0m \u001b[0mnp\u001b[0m\u001b[1;33m.\u001b[0m\u001b[0masanyarray\u001b[0m\u001b[1;33m(\u001b[0m\u001b[0moffsets\u001b[0m\u001b[1;33m,\u001b[0m \u001b[0mfloat\u001b[0m\u001b[1;33m)\u001b[0m\u001b[1;33m\u001b[0m\u001b[1;33m\u001b[0m\u001b[0m\n\u001b[0m\u001b[0;32m    207\u001b[0m             \u001b[1;31m# Broadcast (2,) -> (1, 2) but nothing else.\u001b[0m\u001b[1;33m\u001b[0m\u001b[1;33m\u001b[0m\u001b[0m\n\u001b[0;32m    208\u001b[0m             \u001b[1;32mif\u001b[0m \u001b[0moffsets\u001b[0m\u001b[1;33m.\u001b[0m\u001b[0mshape\u001b[0m \u001b[1;33m==\u001b[0m \u001b[1;33m(\u001b[0m\u001b[1;36m2\u001b[0m\u001b[1;33m,\u001b[0m\u001b[1;33m)\u001b[0m\u001b[1;33m:\u001b[0m\u001b[1;33m\u001b[0m\u001b[1;33m\u001b[0m\u001b[0m\n",
      "\u001b[1;32m~\\anaconda3\\lib\\site-packages\\numpy\\core\\_asarray.py\u001b[0m in \u001b[0;36masanyarray\u001b[1;34m(a, dtype, order, like)\u001b[0m\n\u001b[0;32m    169\u001b[0m         \u001b[1;32mreturn\u001b[0m \u001b[0m_asanyarray_with_like\u001b[0m\u001b[1;33m(\u001b[0m\u001b[0ma\u001b[0m\u001b[1;33m,\u001b[0m \u001b[0mdtype\u001b[0m\u001b[1;33m=\u001b[0m\u001b[0mdtype\u001b[0m\u001b[1;33m,\u001b[0m \u001b[0morder\u001b[0m\u001b[1;33m=\u001b[0m\u001b[0morder\u001b[0m\u001b[1;33m,\u001b[0m \u001b[0mlike\u001b[0m\u001b[1;33m=\u001b[0m\u001b[0mlike\u001b[0m\u001b[1;33m)\u001b[0m\u001b[1;33m\u001b[0m\u001b[1;33m\u001b[0m\u001b[0m\n\u001b[0;32m    170\u001b[0m \u001b[1;33m\u001b[0m\u001b[0m\n\u001b[1;32m--> 171\u001b[1;33m     \u001b[1;32mreturn\u001b[0m \u001b[0marray\u001b[0m\u001b[1;33m(\u001b[0m\u001b[0ma\u001b[0m\u001b[1;33m,\u001b[0m \u001b[0mdtype\u001b[0m\u001b[1;33m,\u001b[0m \u001b[0mcopy\u001b[0m\u001b[1;33m=\u001b[0m\u001b[1;32mFalse\u001b[0m\u001b[1;33m,\u001b[0m \u001b[0morder\u001b[0m\u001b[1;33m=\u001b[0m\u001b[0morder\u001b[0m\u001b[1;33m,\u001b[0m \u001b[0msubok\u001b[0m\u001b[1;33m=\u001b[0m\u001b[1;32mTrue\u001b[0m\u001b[1;33m)\u001b[0m\u001b[1;33m\u001b[0m\u001b[1;33m\u001b[0m\u001b[0m\n\u001b[0m\u001b[0;32m    172\u001b[0m \u001b[1;33m\u001b[0m\u001b[0m\n\u001b[0;32m    173\u001b[0m \u001b[1;33m\u001b[0m\u001b[0m\n",
      "\u001b[1;31mTypeError\u001b[0m: float() argument must be a string or a number, not 'NAType'"
     ]
    },
    {
     "data": {
      "image/png": "[encoded data removed]",
      "text/plain": [
       "<Figure size 720x360 with 1 Axes>"
      ]
     },
     "metadata": {
      "needs_background": "light"
     },
     "output_type": "display_data"
    }
   ],
   "source": [
    "plt.figure(figsize=(10, 5))\n",
    "plt.subplot()\n",
    "plt.scatter(x=low_risk_bonds['MATDATE'], y=low_risk_bonds['NKD_period_less_20_profit'])\n",
    "# plt.yscale(value='log')\n",
    "plt.title('Купонная доходность низкорисковых рублевых облигаций в зависимости от даты гашения')\n",
    "plt.xlabel('Дата гашения', fontsize=12)\n",
    "plt.ylabel('Купонная доходность', fontsize=12)\n",
    "plt.show()"
   ]
  },
  {
   "cell_type": "code",
   "execution_count": null,
   "id": "04a7385f",
   "metadata": {},
   "outputs": [],
   "source": []
  },
  {
   "cell_type": "code",
   "execution_count": null,
   "id": "644177fe",
   "metadata": {},
   "outputs": [],
   "source": []
  }
 ],
 "metadata": {
  "kernelspec": {
   "display_name": "Python 3 (ipykernel)",
   "language": "python",
   "name": "python3"
  },
  "language_info": {
   "codemirror_mode": {
    "name": "ipython",
    "version": 3
   },
   "file_extension": ".py",
   "mimetype": "text/x-python",
   "name": "python",
   "nbconvert_exporter": "python",
   "pygments_lexer": "ipython3",
   "version": "3.9.7"
  },
  "toc": {
   "base_numbering": 1,
   "nav_menu": {},
   "number_sections": false,
   "sideBar": true,
   "skip_h1_title": false,
   "title_cell": "Table of Contents",
   "title_sidebar": "Contents",
   "toc_cell": false,
   "toc_position": {
    "height": "calc(100% - 180px)",
    "left": "10px",
    "top": "150px",
    "width": "341.333px"
   },
   "toc_section_display": true,
   "toc_window_display": false
  }
 },
 "nbformat": 4,
 "nbformat_minor": 5
}
